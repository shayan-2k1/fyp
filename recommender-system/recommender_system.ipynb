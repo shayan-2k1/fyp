{
  "cells": [
    {
      "cell_type": "code",
      "execution_count": 1,
      "metadata": {
        "id": "8gEeS6SIbbUL"
      },
      "outputs": [],
      "source": [
        "import numpy as np\n",
        "import pandas as pd\n",
        "import seaborn as sn\n",
        "import matplotlib.pyplot as plt\n",
        "import tensorflow as tf\n",
        "from tensorflow.keras.models import Sequential\n",
        "from tensorflow.keras.layers import Dense\n",
        "from sklearn.model_selection import train_test_split\n",
        "from sklearn.preprocessing import StandardScaler"
      ]
    },
    {
      "cell_type": "code",
      "execution_count": 2,
      "metadata": {
        "id": "uhbhz__HcBD6"
      },
      "outputs": [],
      "source": [
        "from itertools import product\n",
        "import io\n",
        "\n",
        "df1 = pd.read_csv(\"./data/student_dataset.csv\")\n",
        "df2 = pd.read_csv(\".data/scholarship_dataset.csv\")\n",
        "\n",
        "df3=df1.merge(df2, how='cross')\n",
        "\n"
      ]
    },
    {
      "cell_type": "code",
      "execution_count": 3,
      "metadata": {
        "id": "s5TF6U0rcFht"
      },
      "outputs": [],
      "source": [
        "def generate_output(row):\n",
        "    if (((row['Education_Level'] =='BS') & (row['Education_Preference']=='Masters')) | ((row['Education_Level'] =='Masters') & (row['Education_Preference']=='PhD')) | ((row['Education_Level'] =='PhD') & (row['Education_Preference']=='PhD'))) | (row['Country_Preference'] == row['Country_of_Scholarship']) | (row['Domain_Area'] == row['Eligible_Domain']):\n",
        "        return 1\n",
        "    else:\n",
        "        return 0"
      ]
    },
    {
      "cell_type": "code",
      "execution_count": 4,
      "metadata": {
        "id": "vXxe2_mzcJvK"
      },
      "outputs": [],
      "source": [
        "df3['Target'] = df3.apply(generate_output, axis=1)\n",
        "\n",
        "df3.drop('Name', axis=1, inplace=True)\n",
        "df3.drop('CGPA', axis=1, inplace=True)\n",
        "df3.drop('Budget_Prefrence', axis=1, inplace=True)\n",
        "df3.drop('Scholarship_Name', axis=1, inplace=True)\n",
        "df3.drop('Scholarship_Type', axis=1, inplace=True)\n",
        "df3.drop('Scholarship_Budget', axis=1, inplace=True)\n",
        "df3.drop('Required_GPA', axis=1, inplace=True)\n",
        "\n",
        "df3.to_csv(\"combined_dataset.csv\", index=False)"
      ]
    },
    {
      "cell_type": "code",
      "execution_count": 5,
      "metadata": {
        "colab": {
          "base_uri": "https://localhost:8080/"
        },
        "id": "Dt4Bg590cWCP",
        "outputId": "bc62f67c-3c4b-47a3-fe53-ec33ad36e0dd"
      },
      "outputs": [
        {
          "name": "stdout",
          "output_type": "stream",
          "text": [
            "1    135329\n",
            "0    114671\n",
            "Name: Target, dtype: int64\n"
          ]
        }
      ],
      "source": [
        "print(df3['Target'].value_counts())"
      ]
    },
    {
      "cell_type": "code",
      "execution_count": 6,
      "metadata": {
        "id": "LBYIhUHfcaOx"
      },
      "outputs": [],
      "source": [
        "df3 = pd.read_csv(\"combined_dataset.csv\")\n",
        "\n",
        "# Split the dataset into features (X) and target variable (y)\n",
        "X = df3.drop('Target', axis=1)\n",
        "y = df3['Target']\n",
        "\n",
        "# One-hot encode categorical columns\n",
        "categorical_columns = [\"Education_Level\", \"Country_Preference\", \"Domain_Area\",\n",
        "                       \"Education_Preference\", \"Country_of_Scholarship\",\n",
        "                       \"Eligible_Domain\"]\n",
        "\n",
        "X = pd.get_dummies(X, columns=categorical_columns)\n",
        "\n",
        "# Split the data into training and testing sets\n",
        "X_train, X_test, y_train, y_test = train_test_split(X, y, test_size=0.2, random_state=23)\n",
        "\n",
        "# Standardize the features\n",
        "scaler = StandardScaler()\n",
        "X_train_scaled = scaler.fit_transform(X_train)\n",
        "X_test_scaled = scaler.transform(X_test)"
      ]
    },
    {
      "cell_type": "code",
      "execution_count": 7,
      "metadata": {
        "id": "obhtOIfz5kTV"
      },
      "outputs": [],
      "source": [
        "from tensorflow.keras.callbacks import EarlyStopping\n",
        "\n",
        "early_stop=EarlyStopping(monitor='val_loss',patience=2)"
      ]
    },
    {
      "cell_type": "code",
      "execution_count": 8,
      "metadata": {
        "colab": {
          "base_uri": "https://localhost:8080/"
        },
        "id": "f7OE0ofvcj_P",
        "outputId": "34390a31-18b4-42f7-83e2-56a4c95dbb52"
      },
      "outputs": [
        {
          "name": "stdout",
          "output_type": "stream",
          "text": [
            "Epoch 1/10\n",
            "6250/6250 [==============================] - 15s 2ms/step - loss: 0.4127 - accuracy: 0.8374 - val_loss: 0.2975 - val_accuracy: 0.8992\n",
            "Epoch 2/10\n",
            "6250/6250 [==============================] - 14s 2ms/step - loss: 0.2663 - accuracy: 0.9110 - val_loss: 0.2465 - val_accuracy: 0.9207\n",
            "Epoch 3/10\n",
            "6250/6250 [==============================] - 15s 2ms/step - loss: 0.2351 - accuracy: 0.9238 - val_loss: 0.2318 - val_accuracy: 0.9245\n",
            "Epoch 4/10\n",
            "6250/6250 [==============================] - 13s 2ms/step - loss: 0.2294 - accuracy: 0.9251 - val_loss: 0.2396 - val_accuracy: 0.9197\n",
            "Epoch 5/10\n",
            "6250/6250 [==============================] - 14s 2ms/step - loss: 0.2286 - accuracy: 0.9252 - val_loss: 0.2286 - val_accuracy: 0.9250\n",
            "Epoch 6/10\n",
            "6250/6250 [==============================] - 14s 2ms/step - loss: 0.2282 - accuracy: 0.9252 - val_loss: 0.2287 - val_accuracy: 0.9250\n",
            "Epoch 7/10\n",
            "6250/6250 [==============================] - 14s 2ms/step - loss: 0.2280 - accuracy: 0.9253 - val_loss: 0.2364 - val_accuracy: 0.9214\n"
          ]
        }
      ],
      "source": [
        "# Build a simple neural network model\n",
        "model = Sequential([\n",
        "    Dense(8, activation='relu'),\n",
        "    Dense(4, activation='relu'),\n",
        "    Dense(2, activation='relu'),\n",
        "    Dense(1, activation='sigmoid')\n",
        "])\n",
        "\n",
        "# Compile the model\n",
        "model.compile(optimizer='adam', loss='binary_crossentropy', metrics=['accuracy'])\n",
        "\n",
        "# Train the model with a specified number of epochs\n",
        "epochs = 10  # Adjust the number of epochs as needed\n",
        "history=model.fit(X_train_scaled, y_train, epochs=epochs, validation_data=(X_test_scaled, y_test), callbacks=[early_stop])"
      ]
    },
    {
      "cell_type": "code",
      "execution_count": 9,
      "metadata": {
        "colab": {
          "base_uri": "https://localhost:8080/",
          "height": 472
        },
        "id": "0gD2Dfhs5uqD",
        "outputId": "2fc8b42c-4b26-4554-a351-8e14086fc6f2"
      },
      "outputs": [
        {
          "data": {
            "image/png": "[encoded data removed]",
            "text/plain": [
              "<Figure size 640x480 with 1 Axes>"
            ]
          },
          "metadata": {},
          "output_type": "display_data"
        }
      ],
      "source": [
        "# Accessing loss history\n",
        "train_loss = history.history['loss']\n",
        "val_loss = history.history['val_loss']\n",
        "\n",
        "# Plotting loss\n",
        "plt.plot(train_loss, label='Training Loss')\n",
        "plt.plot(val_loss, label='Validation Loss')\n",
        "plt.xlabel('Epoch')\n",
        "plt.ylabel('Loss')\n",
        "plt.title('Training and Validation Loss')\n",
        "plt.legend()\n",
        "plt.show()"
      ]
    },
    {
      "cell_type": "code",
      "execution_count": 10,
      "metadata": {
        "colab": {
          "base_uri": "https://localhost:8080/"
        },
        "id": "de-M8Hp8dAz1",
        "outputId": "9fc8c3b4-bbd7-4b2f-f18c-3f2cc84b0e2c"
      },
      "outputs": [
        {
          "name": "stdout",
          "output_type": "stream",
          "text": [
            "1563/1563 [==============================] - 2s 1ms/step\n",
            "Accuracy: 0.92136\n",
            "Classification Report:\n",
            "              precision    recall  f1-score   support\n",
            "\n",
            "           0       1.00      0.83      0.91     22994\n",
            "           1       0.87      1.00      0.93     27006\n",
            "\n",
            "    accuracy                           0.92     50000\n",
            "   macro avg       0.94      0.91      0.92     50000\n",
            "weighted avg       0.93      0.92      0.92     50000\n",
            "\n",
            "Confusion Matrix:\n",
            "[[19118  3876]\n",
            " [   56 26950]]\n"
          ]
        }
      ],
      "source": [
        "from sklearn.metrics import accuracy_score, classification_report, confusion_matrix\n",
        "\n",
        "# Predict probabilities for binary classification\n",
        "y_pred_prob = model.predict(X_test_scaled)\n",
        "\n",
        "# Convert probabilities to binary labels\n",
        "y_pred = (y_pred_prob > 0.5).astype(int)\n",
        "\n",
        "# Ensure y_test and y_pred have the same data type and shape\n",
        "y_test = np.array(y_test)\n",
        "y_pred = np.array(y_pred)\n",
        "\n",
        "# Calculate accuracy\n",
        "accuracy = accuracy_score(y_test, y_pred)\n",
        "print(f\"Accuracy: {accuracy}\")\n",
        "\n",
        "# Generate classification report\n",
        "print(\"Classification Report:\")\n",
        "print(classification_report(y_test, y_pred))\n",
        "\n",
        "# Generate confusion matrix\n",
        "print(\"Confusion Matrix:\")\n",
        "print(confusion_matrix(y_test, y_pred))\n"
      ]
    },
    {
      "cell_type": "code",
      "execution_count": 11,
      "metadata": {
        "id": "B6SvlqWqdLJm"
      },
      "outputs": [],
      "source": [
        "tf.saved_model.save(model, 'recommender_system')\n"
      ]
    },
    {
      "cell_type": "code",
      "execution_count": 12,
      "metadata": {
        "colab": {
          "base_uri": "https://localhost:8080/",
          "height": 17
        },
        "id": "DQpI7dWV78D1",
        "outputId": "fac7981f-13bf-48ae-da17-ed3f5844a12c"
      },
      "outputs": [
        {
          "data": {
            "application/javascript": "\n    async function download(id, filename, size) {\n      if (!google.colab.kernel.accessAllowed) {\n        return;\n      }\n      const div = document.createElement('div');\n      const label = document.createElement('label');\n      label.textContent = `Downloading \"${filename}\": `;\n      div.appendChild(label);\n      const progress = document.createElement('progress');\n      progress.max = size;\n      div.appendChild(progress);\n      document.body.appendChild(div);\n\n      const buffers = [];\n      let downloaded = 0;\n\n      const channel = await google.colab.kernel.comms.open(id);\n      // Send a message to notify the kernel that we're ready.\n      channel.send({})\n\n      for await (const message of channel.messages) {\n        // Send a message to notify the kernel that we're ready.\n        channel.send({})\n        if (message.buffers) {\n          for (const buffer of message.buffers) {\n            buffers.push(buffer);\n            downloaded += buffer.byteLength;\n            progress.value = downloaded;\n          }\n        }\n      }\n      const blob = new Blob(buffers, {type: 'application/binary'});\n      const a = document.createElement('a');\n      a.href = window.URL.createObjectURL(blob);\n      a.download = filename;\n      div.appendChild(a);\n      a.click();\n      div.remove();\n    }\n  ",
            "text/plain": [
              "<IPython.core.display.Javascript object>"
            ]
          },
          "metadata": {},
          "output_type": "display_data"
        },
        {
          "data": {
            "application/javascript": "download(\"download_a4972a91-39b6-4078-91f4-54938fe49fe5\", \"recommender_system.zip\", 21781)",
            "text/plain": [
              "<IPython.core.display.Javascript object>"
            ]
          },
          "metadata": {},
          "output_type": "display_data"
        }
      ],
      "source": [
        "from google.colab import files\n",
        "import os\n",
        "\n",
        "dir_to_zip = 'recommender_system'\n",
        "output_filename = 'recommender_system.zip'\n",
        "delete_dir_after_download = \"No\"\n",
        "\n",
        "os.system( \"zip -r {} {}\".format( output_filename , dir_to_zip ) )\n",
        "\n",
        "if delete_dir_after_download == \"Yes\":\n",
        "    os.system( \"rm -r {}\".format( dir_to_zip ) )\n",
        "\n",
        "files.download( output_filename )"
      ]
    },
    {
      "cell_type": "code",
      "execution_count": null,
      "metadata": {
        "id": "oY_R5WJn6DVS"
      },
      "outputs": [],
      "source": [
        "# !pip install tensorflowjs"
      ]
    },
    {
      "cell_type": "code",
      "execution_count": null,
      "metadata": {
        "id": "s7luFjp5dSoJ"
      },
      "outputs": [],
      "source": [
        "# import tensorflowjs as tfjs"
      ]
    },
    {
      "cell_type": "code",
      "execution_count": null,
      "metadata": {
        "id": "WmqOpEREdgtF"
      },
      "outputs": [],
      "source": [
        "# tfjs.converters.save_keras_model(model,'/content/')"
      ]
    },
    {
      "cell_type": "code",
      "execution_count": null,
      "metadata": {
        "id": "K4Hl2lN2eqLM"
      },
      "outputs": [],
      "source": [
        "# from google.colab import files"
      ]
    },
    {
      "cell_type": "code",
      "execution_count": null,
      "metadata": {
        "colab": {
          "base_uri": "https://localhost:8080/",
          "height": 17
        },
        "id": "ofdp3Hb6ev30",
        "outputId": "a5bad1e6-faa7-4f2b-90e4-73625f27e36b"
      },
      "outputs": [
        {
          "data": {
            "application/javascript": "\n    async function download(id, filename, size) {\n      if (!google.colab.kernel.accessAllowed) {\n        return;\n      }\n      const div = document.createElement('div');\n      const label = document.createElement('label');\n      label.textContent = `Downloading \"${filename}\": `;\n      div.appendChild(label);\n      const progress = document.createElement('progress');\n      progress.max = size;\n      div.appendChild(progress);\n      document.body.appendChild(div);\n\n      const buffers = [];\n      let downloaded = 0;\n\n      const channel = await google.colab.kernel.comms.open(id);\n      // Send a message to notify the kernel that we're ready.\n      channel.send({})\n\n      for await (const message of channel.messages) {\n        // Send a message to notify the kernel that we're ready.\n        channel.send({})\n        if (message.buffers) {\n          for (const buffer of message.buffers) {\n            buffers.push(buffer);\n            downloaded += buffer.byteLength;\n            progress.value = downloaded;\n          }\n        }\n      }\n      const blob = new Blob(buffers, {type: 'application/binary'});\n      const a = document.createElement('a');\n      a.href = window.URL.createObjectURL(blob);\n      a.download = filename;\n      div.appendChild(a);\n      a.click();\n      div.remove();\n    }\n  ",
            "text/plain": [
              "<IPython.core.display.Javascript object>"
            ]
          },
          "metadata": {},
          "output_type": "display_data"
        },
        {
          "data": {
            "application/javascript": "download(\"download_470697bf-6e7f-4ea2-af6e-95d796510b2e\", \"model.json\", 3113)",
            "text/plain": [
              "<IPython.core.display.Javascript object>"
            ]
          },
          "metadata": {},
          "output_type": "display_data"
        }
      ],
      "source": [
        "# files.download('model.json')"
      ]
    },
    {
      "cell_type": "code",
      "execution_count": null,
      "metadata": {
        "colab": {
          "base_uri": "https://localhost:8080/",
          "height": 17
        },
        "id": "GnA9qa7Fe3Cp",
        "outputId": "3993f031-3500-4962-fe34-1db05312e2ec"
      },
      "outputs": [
        {
          "data": {
            "application/javascript": "\n    async function download(id, filename, size) {\n      if (!google.colab.kernel.accessAllowed) {\n        return;\n      }\n      const div = document.createElement('div');\n      const label = document.createElement('label');\n      label.textContent = `Downloading \"${filename}\": `;\n      div.appendChild(label);\n      const progress = document.createElement('progress');\n      progress.max = size;\n      div.appendChild(progress);\n      document.body.appendChild(div);\n\n      const buffers = [];\n      let downloaded = 0;\n\n      const channel = await google.colab.kernel.comms.open(id);\n      // Send a message to notify the kernel that we're ready.\n      channel.send({})\n\n      for await (const message of channel.messages) {\n        // Send a message to notify the kernel that we're ready.\n        channel.send({})\n        if (message.buffers) {\n          for (const buffer of message.buffers) {\n            buffers.push(buffer);\n            downloaded += buffer.byteLength;\n            progress.value = downloaded;\n          }\n        }\n      }\n      const blob = new Blob(buffers, {type: 'application/binary'});\n      const a = document.createElement('a');\n      a.href = window.URL.createObjectURL(blob);\n      a.download = filename;\n      div.appendChild(a);\n      a.click();\n      div.remove();\n    }\n  ",
            "text/plain": [
              "<IPython.core.display.Javascript object>"
            ]
          },
          "metadata": {},
          "output_type": "display_data"
        },
        {
          "data": {
            "application/javascript": "download(\"download_a6990121-f311-478b-8541-2ef163e38c47\", \"group1-shard1of1.bin\", 628)",
            "text/plain": [
              "<IPython.core.display.Javascript object>"
            ]
          },
          "metadata": {},
          "output_type": "display_data"
        }
      ],
      "source": [
        "# files.download('group1-shard1of1.bin')"
      ]
    }
  ],
  "metadata": {
    "colab": {
      "provenance": []
    },
    "kernelspec": {
      "display_name": "Python 3",
      "name": "python3"
    },
    "language_info": {
      "name": "python"
    }
  },
  "nbformat": 4,
  "nbformat_minor": 0
}
