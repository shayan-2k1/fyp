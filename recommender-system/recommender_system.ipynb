{
  "cells": [
    {
      "cell_type": "markdown",
      "metadata": {},
      "source": [
        "# Pre-Processing the Data"
      ]
    },
    {
      "cell_type": "code",
      "execution_count": null,
      "metadata": {
        "colab": {
          "base_uri": "https://localhost:8080/",
          "height": 1000
        },
        "id": "wfUpCOkKiidu",
        "outputId": "3d16caa0-f821-4f72-d100-e11d65a8b352"
      },
      "outputs": [],
      "source": [
        "import numpy as np\n",
        "import pandas as pd\n",
        "import seaborn as sn\n",
        "import matplotlib.pyplot as plt\n",
        "import tensorflow as tf\n",
        "from tensorflow import keras\n",
        "from tensorflow.keras.models import Sequential, load_model\n",
        "from tensorflow.keras.layers import Dense\n",
        "from sklearn.model_selection import train_test_split\n",
        "from sklearn.preprocessing import StandardScaler, LabelEncoder\n",
        "import pickle\n",
        "\n",
        "# Load datasets\n",
        "df1 = pd.read_csv(\"./data/student_dataset.csv\")\n",
        "df2 = pd.read_csv(\"./data/scholarship_dataset.csv\")\n",
        "\n",
        "# Merge datasets\n",
        "df3 = df1.merge(df2, how='cross')\n",
        "\n",
        "# Function to generate target variable\n",
        "def generate_output(row):\n",
        "    if (((row['Education_Level'],row['Scholarship_Level'])==('BS','Masters')) |\n",
        "        ((row['Education_Level'],row['Scholarship_Level'])==('Masters','PhD')) |\n",
        "        ((row['Education_Level'],row['Scholarship_Level'])==('PhD','PhD'))) | ((row['Country_Preference'] == row['Country_of_Scholarship']) |\n",
        "                                                                              (row['Domain_Area'] == row['Eligible_Domain'])):\n",
        "        return 1\n",
        "    else:\n",
        "        return 0\n",
        "\n",
        "df3['Target'] = df3.apply(generate_output, axis=1)\n",
        "\n",
        "# Drop unnecessary columns\n",
        "df3.drop(['Name', 'CGPA', 'Budget_Prefrence', 'Scholarship_Name', 'Scholarship_Type', 'Scholarship_Budget', 'Required_GPA'], axis=1, inplace=True)\n",
        "\n",
        "# Save merged dataset\n",
        "df3.to_csv(\"combined_dataset.csv\", index=False)\n",
        "\n",
        "print(df3['Target'].value_counts())\n",
        "\n",
        "# Load the dataset\n",
        "df3 = pd.read_csv(\"combined_dataset.csv\")\n",
        "\n",
        "# Initialize a dictionary to store label encoders for each column\n",
        "label_encoders = {}\n",
        "\n",
        "# Apply label encoding to each categorical column separately\n",
        "for col in df3.select_dtypes(include=['object']).columns:\n",
        "    label_encoder = LabelEncoder()\n",
        "    df3[col] = label_encoder.fit_transform(df3[col])\n",
        "    label_encoders[col] = label_encoder\n",
        "\n",
        "# Split the dataset into features (X) and target variable (y)\n",
        "X = df3.drop('Target', axis=1)\n",
        "y = df3['Target']\n",
        "\n",
        "# Split the data into training and testing sets\n",
        "X_train, X_test, y_train, y_test = train_test_split(X, y, test_size=0.2, random_state=23)\n",
        "\n",
        "# Standardize the features\n",
        "scaler = StandardScaler()\n",
        "X_train_scaled = scaler.fit_transform(X_train)\n",
        "X_test_scaled = scaler.transform(X_test)\n"
      ]
    },
    {
      "cell_type": "markdown",
      "metadata": {},
      "source": [
        "# Training the Model"
      ]
    },
    {
      "cell_type": "code",
      "execution_count": null,
      "metadata": {},
      "outputs": [],
      "source": [
        "# Build a simple neural network model\n",
        "model = Sequential([\n",
        "    Dense(8, activation='relu'),\n",
        "    Dense(4, activation='relu'),\n",
        "    Dense(2, activation='relu',kernel_regularizer=keras.regularizers.l2(0.1)),\n",
        "    Dense(1, activation='sigmoid')\n",
        "])\n",
        "\n",
        "# Compile the model\n",
        "model.compile(optimizer='adam', loss='binary_crossentropy', metrics=['accuracy'])\n",
        "\n",
        "# Train the model with a specified number of epochs\n",
        "epochs = 10  # Adjust the number of epochs as needed\n",
        "history = model.fit(X_train_scaled, y_train, epochs=epochs, validation_data=(X_test_scaled, y_test))"
      ]
    },
    {
      "cell_type": "markdown",
      "metadata": {},
      "source": [
        "# Evaluating the Model"
      ]
    },
    {
      "cell_type": "code",
      "execution_count": null,
      "metadata": {},
      "outputs": [],
      "source": [
        "# Plot the training and validation loss\n",
        "plt.plot(history.history['loss'], label='Training Loss')\n",
        "plt.plot(history.history['val_loss'], label='Validation Loss')\n",
        "plt.title('Training and Validation Loss')\n",
        "plt.xlabel('Epoch')\n",
        "plt.ylabel('Loss')\n",
        "plt.legend()\n",
        "plt.show()\n",
        "\n",
        "# Evaluate the model\n",
        "_, accuracy = model.evaluate(X_test_scaled, y_test)\n",
        "print(f\"Accuracy: {accuracy}\")\n",
        "\n",
        "# Generate classification report and confusion matrix\n",
        "from sklearn.metrics import classification_report, confusion_matrix\n",
        "\n",
        "y_pred_prob = model.predict(X_test_scaled)\n",
        "y_pred = (y_pred_prob > 0.5).astype(int)\n",
        "\n",
        "print(\"Classification Report:\")\n",
        "print(classification_report(y_test, y_pred))\n",
        "\n",
        "print(\"Confusion Matrix:\")\n",
        "print(confusion_matrix(y_test, y_pred))"
      ]
    },
    {
      "cell_type": "markdown",
      "metadata": {},
      "source": [
        "# Saving the Model"
      ]
    },
    {
      "cell_type": "code",
      "execution_count": null,
      "metadata": {},
      "outputs": [],
      "source": [
        "# Save the model\n",
        "model.save(\"my_model.h5\")\n",
        "\n",
        "# Save label encoders to disk\n",
        "with open(\"label_encoders.pkl\", \"wb\") as f:\n",
        "    pickle.dump(label_encoders, f)\n",
        "\n",
        "# Save the scaler\n",
        "with open(\"scaler.pkl\", \"wb\") as f:\n",
        "    pickle.dump(scaler, f)"
      ]
    },
    {
      "cell_type": "markdown",
      "metadata": {},
      "source": [
        "# Making the Predictions"
      ]
    },
    {
      "cell_type": "code",
      "execution_count": 19,
      "metadata": {
        "colab": {
          "base_uri": "https://localhost:8080/",
          "height": 206
        },
        "id": "Tp5Q-XRmnf4R",
        "outputId": "212a5050-eb9d-49ca-860b-1575924e3091"
      },
      "outputs": [
        {
          "data": {
            "text/html": [
              "<div>\n",
              "<style scoped>\n",
              "    .dataframe tbody tr th:only-of-type {\n",
              "        vertical-align: middle;\n",
              "    }\n",
              "\n",
              "    .dataframe tbody tr th {\n",
              "        vertical-align: top;\n",
              "    }\n",
              "\n",
              "    .dataframe thead th {\n",
              "        text-align: right;\n",
              "    }\n",
              "</style>\n",
              "<table border=\"1\" class=\"dataframe\">\n",
              "  <thead>\n",
              "    <tr style=\"text-align: right;\">\n",
              "      <th></th>\n",
              "      <th>Education_Level</th>\n",
              "      <th>Country_Preference</th>\n",
              "      <th>Domain_Area</th>\n",
              "      <th>Scholarship_Level</th>\n",
              "      <th>Country_of_Scholarship</th>\n",
              "      <th>Eligible_Domain</th>\n",
              "      <th>Target</th>\n",
              "    </tr>\n",
              "  </thead>\n",
              "  <tbody>\n",
              "    <tr>\n",
              "      <th>0</th>\n",
              "      <td>0</td>\n",
              "      <td>1</td>\n",
              "      <td>0</td>\n",
              "      <td>2</td>\n",
              "      <td>2</td>\n",
              "      <td>6</td>\n",
              "      <td>0</td>\n",
              "    </tr>\n",
              "    <tr>\n",
              "      <th>1</th>\n",
              "      <td>0</td>\n",
              "      <td>1</td>\n",
              "      <td>0</td>\n",
              "      <td>1</td>\n",
              "      <td>2</td>\n",
              "      <td>6</td>\n",
              "      <td>1</td>\n",
              "    </tr>\n",
              "    <tr>\n",
              "      <th>2</th>\n",
              "      <td>0</td>\n",
              "      <td>1</td>\n",
              "      <td>0</td>\n",
              "      <td>1</td>\n",
              "      <td>3</td>\n",
              "      <td>12</td>\n",
              "      <td>1</td>\n",
              "    </tr>\n",
              "    <tr>\n",
              "      <th>3</th>\n",
              "      <td>0</td>\n",
              "      <td>1</td>\n",
              "      <td>0</td>\n",
              "      <td>2</td>\n",
              "      <td>5</td>\n",
              "      <td>12</td>\n",
              "      <td>0</td>\n",
              "    </tr>\n",
              "    <tr>\n",
              "      <th>4</th>\n",
              "      <td>0</td>\n",
              "      <td>1</td>\n",
              "      <td>0</td>\n",
              "      <td>2</td>\n",
              "      <td>1</td>\n",
              "      <td>8</td>\n",
              "      <td>1</td>\n",
              "    </tr>\n",
              "  </tbody>\n",
              "</table>\n",
              "</div>"
            ],
            "text/plain": [
              "   Education_Level  Country_Preference  Domain_Area  Scholarship_Level  \\\n",
              "0                0                   1            0                  2   \n",
              "1                0                   1            0                  1   \n",
              "2                0                   1            0                  1   \n",
              "3                0                   1            0                  2   \n",
              "4                0                   1            0                  2   \n",
              "\n",
              "   Country_of_Scholarship  Eligible_Domain  Target  \n",
              "0                       2                6       0  \n",
              "1                       2                6       1  \n",
              "2                       3               12       1  \n",
              "3                       5               12       0  \n",
              "4                       1                8       1  "
            ]
          },
          "execution_count": 19,
          "metadata": {},
          "output_type": "execute_result"
        }
      ],
      "source": [
        "df3.head()"
      ]
    },
    {
      "cell_type": "code",
      "execution_count": null,
      "metadata": {
        "colab": {
          "base_uri": "https://localhost:8080/"
        },
        "id": "-pCYVycinrgn",
        "outputId": "fce32517-dd0a-4c1f-d667-c64fdbfb1f29"
      },
      "outputs": [],
      "source": [
        "for col, label_encoder in label_encoders.items():\n",
        "    print(f\"Column: {col}\")\n",
        "    print(list(label_encoder.classes_))\n",
        "    print()"
      ]
    },
    {
      "cell_type": "code",
      "execution_count": null,
      "metadata": {
        "colab": {
          "base_uri": "https://localhost:8080/"
        },
        "id": "To5JX8CBm7Fu",
        "outputId": "e08d330f-447b-45e2-92e3-d57a4d2e24e3"
      },
      "outputs": [],
      "source": [
        "# Load the saved model\n",
        "loaded_model = load_model(\"my_model.h5\")\n",
        "\n",
        "# Load label encoder from disk\n",
        "with open(\"label_encoders.pkl\", \"rb\") as f:\n",
        "    label_encoder = pickle.load(f)\n",
        "\n",
        "# Load the scaler\n",
        "with open(\"scaler.pkl\", \"rb\") as f:\n",
        "    scaler = pickle.load(f)\n",
        "\n",
        "# Sample raw data\n",
        "raw_data = pd.DataFrame({\n",
        "    'Education_Level': ['BS'],\n",
        "    'Country_Preference': ['USA'],\n",
        "    'Domain_Area': ['Business Administration'],\n",
        "    'Scholarship_Level': ['Masters'],\n",
        "    'Country_of_Scholarship': ['USA'],\n",
        "    'Eligible_Domain': ['Computer Science'],\n",
        "})\n",
        "\n",
        "# Initialize an empty DataFrame to store encoded raw data\n",
        "encoded_raw_data = pd.DataFrame()\n",
        "\n",
        "# Encode categorical features in the raw data using the loaded label encoders\n",
        "for col in raw_data.columns:\n",
        "    if col in label_encoder:\n",
        "        label_encoder_col = label_encoder[col]\n",
        "        encoded_raw_data[col] = label_encoder_col.transform(raw_data[col])\n",
        "\n",
        "# Scale the encoded raw data using the loaded scaler\n",
        "scaled_raw_data = scaler.transform(encoded_raw_data)\n",
        "\n",
        "# Make predictions with the loaded model\n",
        "predictions = loaded_model.predict(scaled_raw_data)\n",
        "\n",
        "# Set the threshold\n",
        "threshold = 0.5\n",
        "\n",
        "# Apply threshold to convert probabilities to class labels\n",
        "binary_predictions = (predictions > threshold).astype(int)\n",
        "\n",
        "# Display the class labels\n",
        "print(\"Class Labels (Predictions):\")\n",
        "print(binary_predictions[0][0])\n"
      ]
    }
  ],
  "metadata": {
    "colab": {
      "provenance": []
    },
    "kernelspec": {
      "display_name": "Python 3",
      "name": "python3"
    },
    "language_info": {
      "codemirror_mode": {
        "name": "ipython",
        "version": 3
      },
      "file_extension": ".py",
      "mimetype": "text/x-python",
      "name": "python",
      "nbconvert_exporter": "python",
      "pygments_lexer": "ipython3",
      "version": "3.12.2"
    }
  },
  "nbformat": 4,
  "nbformat_minor": 0
}
