{
  "cells": [
    {
      "cell_type": "code",
      "execution_count": 2,
      "metadata": {
        "id": "IXoKaBqIIRJN"
      },
      "outputs": [],
      "source": [
        "import numpy as np\n",
        "import pandas as pd\n",
        "import seaborn as sn\n",
        "import matplotlib as plt\n",
        "import tensorflow as tf\n",
        "from tensorflow.keras.models import Sequential\n",
        "from tensorflow.keras.layers import Dense\n",
        "from sklearn.model_selection import train_test_split\n",
        "from sklearn.preprocessing import StandardScaler"
      ]
    },
    {
      "cell_type": "code",
      "execution_count": 3,
      "metadata": {
        "id": "oiu-bCS8Ibsq"
      },
      "outputs": [],
      "source": [
        "from itertools import product\n",
        "import io\n",
        "\n",
        "df1 = pd.read_csv(\"./data/student_dataset.csv\")\n",
        "df2 = pd.read_csv(\"./data/scholarship_dataset.csv\")\n",
        "\n",
        "df3=df1.merge(df2, how='cross')\n"
      ]
    },
    {
      "cell_type": "code",
      "execution_count": 4,
      "metadata": {
        "id": "ez4aaR-ASxxS"
      },
      "outputs": [],
      "source": [
        "def generate_output(row):\n",
        "    if (((row['Education_Level'] =='BS') and (row['Education_Preference']=='Masters')) or ((row['Education_Level'] =='Masters') and (row['Education_Preference']=='PhD')) or ((row['Education_Level'] =='PhD') and (row['Education_Preference']=='PhD'))) and (row['Domain_Area'] == row['Eligible_Domain']) and (row['Country_Preference'] == row['Country_of_Scholarship']):\n",
        "        return 1\n",
        "    else:\n",
        "        return 0"
      ]
    },
    {
      "cell_type": "code",
      "execution_count": 5,
      "metadata": {
        "id": "Xq5ZMIwnS2xK"
      },
      "outputs": [],
      "source": [
        "df3['Target'] = df3.apply(generate_output, axis=1)\n",
        "\n",
        "df3.to_csv(\"combined_dataset.csv\", index=False)"
      ]
    },
    {
      "cell_type": "code",
      "execution_count": 6,
      "metadata": {
        "colab": {
          "base_uri": "https://localhost:8080/"
        },
        "id": "h_ZDYtFDTn70",
        "outputId": "b0964d19-5841-4b30-b126-fd7456aa4085"
      },
      "outputs": [
        {
          "name": "stdout",
          "output_type": "stream",
          "text": [
            "Target\n",
            "0    248045\n",
            "1      1955\n",
            "Name: count, dtype: int64\n"
          ]
        }
      ],
      "source": [
        "print(df3['Target'].value_counts())"
      ]
    },
    {
      "cell_type": "code",
      "execution_count": 7,
      "metadata": {
        "id": "AYOp_LrmT2qv"
      },
      "outputs": [],
      "source": [
        "df3 = pd.read_csv(\"combined_dataset.csv\")\n",
        "\n",
        "# Split the dataset into features (X) and target variable (y)\n",
        "X = df3.drop('Target', axis=1)\n",
        "y = df3['Target']\n",
        "\n",
        "# One-hot encode categorical columns\n",
        "categorical_columns = [\"Name\", \"Education_Level\", \"Country_Preference\", \"Domain_Area\", \"Scholarship_Name\",\n",
        "                       \"Scholarship_Type\", \"Education_Preference\", \"Country_of_Scholarship\",\n",
        "                       \"Eligible_Domain\"]\n",
        "\n",
        "X = pd.get_dummies(X, columns=categorical_columns)\n",
        "\n",
        "# Split the data into training and testing sets\n",
        "X_train, X_test, y_train, y_test = train_test_split(X, y, test_size=0.2, random_state=23)\n",
        "\n",
        "# Standardize the features\n",
        "scaler = StandardScaler()\n",
        "X_train_scaled = scaler.fit_transform(X_train)\n",
        "X_test_scaled = scaler.transform(X_test)"
      ]
    },
    {
      "cell_type": "code",
      "execution_count": 8,
      "metadata": {
        "colab": {
          "base_uri": "https://localhost:8080/"
        },
        "id": "rlytwm8GUXP4",
        "outputId": "155308dd-df6a-445c-e8d8-9cea555e688f"
      },
      "outputs": [
        {
          "name": "stdout",
          "output_type": "stream",
          "text": [
            "Epoch 1/5\n",
            "\u001b[1m6250/6250\u001b[0m \u001b[32m━━━━━━━━━━━━━━━━━━━━\u001b[0m\u001b[37m\u001b[0m \u001b[1m12s\u001b[0m 2ms/step - accuracy: 0.9386 - loss: 0.1464 - val_accuracy: 0.9926 - val_loss: 0.0423\n",
            "Epoch 2/5\n",
            "\u001b[1m6250/6250\u001b[0m \u001b[32m━━━━━━━━━━━━━━━━━━━━\u001b[0m\u001b[37m\u001b[0m \u001b[1m11s\u001b[0m 2ms/step - accuracy: 0.9920 - loss: 0.0393 - val_accuracy: 0.9926 - val_loss: 0.0362\n",
            "Epoch 3/5\n",
            "\u001b[1m6250/6250\u001b[0m \u001b[32m━━━━━━━━━━━━━━━━━━━━\u001b[0m\u001b[37m\u001b[0m \u001b[1m11s\u001b[0m 2ms/step - accuracy: 0.9926 - loss: 0.0285 - val_accuracy: 0.9933 - val_loss: 0.0286\n",
            "Epoch 4/5\n",
            "\u001b[1m6250/6250\u001b[0m \u001b[32m━━━━━━━━━━━━━━━━━━━━\u001b[0m\u001b[37m\u001b[0m \u001b[1m11s\u001b[0m 2ms/step - accuracy: 0.9935 - loss: 0.0197 - val_accuracy: 0.9941 - val_loss: 0.0218\n",
            "Epoch 5/5\n",
            "\u001b[1m6250/6250\u001b[0m \u001b[32m━━━━━━━━━━━━━━━━━━━━\u001b[0m\u001b[37m\u001b[0m \u001b[1m10s\u001b[0m 2ms/step - accuracy: 0.9948 - loss: 0.0109 - val_accuracy: 0.9961 - val_loss: 0.0167\n"
          ]
        },
        {
          "data": {
            "text/plain": [
              "<keras.src.callbacks.history.History at 0x24e225a86b0>"
            ]
          },
          "execution_count": 8,
          "metadata": {},
          "output_type": "execute_result"
        }
      ],
      "source": [
        "# Build a simple neural network model\n",
        "model = Sequential([\n",
        "    Dense(8, activation='relu'),\n",
        "    Dense(4, activation='relu'),\n",
        "    Dense(1, activation='sigmoid')\n",
        "])\n",
        "\n",
        "# Compile the model\n",
        "model.compile(optimizer='adam', loss='binary_crossentropy', metrics=['accuracy'])\n",
        "\n",
        "# Train the model with a specified number of epochs\n",
        "epochs = 5  # Adjust the number of epochs as needed\n",
        "model.fit(X_train_scaled, y_train, epochs=epochs, validation_data=(X_test_scaled, y_test))"
      ]
    },
    {
      "cell_type": "code",
      "execution_count": 2,
      "metadata": {
        "colab": {
          "base_uri": "https://localhost:8080/"
        },
        "id": "2DVtd_h7Vw6W",
        "outputId": "b0f2e4d5-2614-4f66-e260-dac6f483e9bc"
      },
      "outputs": [
        {
          "ename": "NameError",
          "evalue": "name 'model' is not defined",
          "output_type": "error",
          "traceback": [
            "\u001b[1;31m---------------------------------------------------------------------------\u001b[0m",
            "\u001b[1;31mNameError\u001b[0m                                 Traceback (most recent call last)",
            "Cell \u001b[1;32mIn[2], line 4\u001b[0m\n\u001b[0;32m      1\u001b[0m \u001b[38;5;28;01mfrom\u001b[39;00m \u001b[38;5;21;01msklearn\u001b[39;00m\u001b[38;5;21;01m.\u001b[39;00m\u001b[38;5;21;01mmetrics\u001b[39;00m \u001b[38;5;28;01mimport\u001b[39;00m accuracy_score, classification_report, confusion_matrix\n\u001b[0;32m      3\u001b[0m \u001b[38;5;66;03m# Predict probabilities for binary classification\u001b[39;00m\n\u001b[1;32m----> 4\u001b[0m y_pred_prob \u001b[38;5;241m=\u001b[39m \u001b[43mmodel\u001b[49m\u001b[38;5;241m.\u001b[39mpredict(X_test_scaled)\n\u001b[0;32m      6\u001b[0m \u001b[38;5;66;03m# Convert probabilities to binary labels\u001b[39;00m\n\u001b[0;32m      7\u001b[0m y_pred \u001b[38;5;241m=\u001b[39m (y_pred_prob \u001b[38;5;241m>\u001b[39m \u001b[38;5;241m0.5\u001b[39m)\u001b[38;5;241m.\u001b[39mastype(\u001b[38;5;28mint\u001b[39m)\n",
            "\u001b[1;31mNameError\u001b[0m: name 'model' is not defined"
          ]
        }
      ],
      "source": [
        "from sklearn.metrics import accuracy_score, classification_report, confusion_matrix\n",
        "\n",
        "# Predict probabilities for binary classification\n",
        "y_pred_prob = model.predict(X_test_scaled)\n",
        "\n",
        "# Convert probabilities to binary labels\n",
        "y_pred = (y_pred_prob > 0.5).astype(int)\n",
        "\n",
        "# Ensure y_test and y_pred have the same data type and shape\n",
        "y_test = np.array(y_test)\n",
        "y_pred = np.array(y_pred)\n",
        "\n",
        "# Calculate accuracy\n",
        "accuracy = accuracy_score(y_test, y_pred)\n",
        "print(f\"Accuracy: {accuracy}\")\n",
        "\n",
        "# Generate classification report\n",
        "print(\"Classification Report:\")\n",
        "print(classification_report(y_test, y_pred))\n",
        "\n",
        "# Generate confusion matrix\n",
        "print(\"Confusion Matrix:\")\n",
        "print(confusion_matrix(y_test, y_pred))\n"
      ]
    },
    {
      "cell_type": "code",
      "execution_count": 10,
      "metadata": {},
      "outputs": [],
      "source": [
        "import keras\n",
        "keras.saving.save_model(model,\"recommender-system.keras\")"
      ]
    }
  ],
  "metadata": {
    "colab": {
      "provenance": [],
      "toc_visible": true
    },
    "kernelspec": {
      "display_name": "Python 3",
      "name": "python3"
    },
    "language_info": {
      "codemirror_mode": {
        "name": "ipython",
        "version": 3
      },
      "file_extension": ".py",
      "mimetype": "text/x-python",
      "name": "python",
      "nbconvert_exporter": "python",
      "pygments_lexer": "ipython3",
      "version": "3.12.0"
    }
  },
  "nbformat": 4,
  "nbformat_minor": 0
}
