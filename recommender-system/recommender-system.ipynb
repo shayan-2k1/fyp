{
 "cells": [
  {
   "cell_type": "code",
   "execution_count": 9,
   "metadata": {},
   "outputs": [],
   "source": [
    "import numpy as np\n",
    "import pandas as pd\n",
    "import seaborn as sn\n",
    "import matplotlib as plt"
   ]
  },
  {
   "cell_type": "code",
   "execution_count": 11,
   "metadata": {},
   "outputs": [],
   "source": [
    "\n",
    "# Load the two datasets\n",
    "df1 = pd.read_csv(\"./data/student_dataset.csv\")\n",
    "df2 = pd.read_csv(\"./data/scholarship_dataset.csv\")\n",
    "\n",
    "# Concatenate the datasets horizontally\n",
    "df3 = pd.concat([df1, df2], axis=1)\n",
    "\n",
    "# Shuffle the rows of the combined dataset\n",
    "df3 = df3.sample(frac=1, random_state=23).reset_index(drop=True)\n",
    "\n",
    "# Save the shuffled and combined DataFrame to a new CSV file\n",
    "df3.to_csv(\"combined_dataset.csv\", index=False)"
   ]
  },
  {
   "cell_type": "code",
   "execution_count": 12,
   "metadata": {},
   "outputs": [],
   "source": [
    "def generate_output(row):\n",
    "\n",
    "    if (row['Education_Level'] == row['Education_Preference']) and (row['Domain_Area'] == row['Eligible_Domain']): \n",
    "        return 1\n",
    "    else:\n",
    "        return 0"
   ]
  },
  {
   "cell_type": "code",
   "execution_count": 13,
   "metadata": {},
   "outputs": [],
   "source": [
    "df3['Target'] = df3.apply(generate_output, axis=1)\n",
    "\n",
    "# Save the shuffled and combined DataFrame with the new \"Target\" column to a new CSV file\n",
    "df3.to_csv(\"combined_dataset.csv\", index=False)"
   ]
  },
  {
   "cell_type": "code",
   "execution_count": 15,
   "metadata": {},
   "outputs": [],
   "source": [
    "from sklearn.model_selection import train_test_split\n",
    "from sklearn.linear_model import LogisticRegression\n",
    "from sklearn.metrics import accuracy_score, classification_report\n",
    "\n",
    "# Load the dataset with the \"output\" column\n",
    "\n",
    "# Drop the \"Name\" column as it is not needed for modeling\n",
    "df3 = df3.drop(\"Name\", axis=1)\n",
    "\n",
    "# Convert categorical variables using label encoding\n",
    "label_encoding_columns = [\"Education_Level\", \"Country_Preference\", \"Domain_Area\", \"Scholarship_Name\", \"Scholarship_Type\", \"Education_Preference\", \"Country_of_Scholarship\", \"Eligible_Domain\"]\n",
    "\n",
    "for column in label_encoding_columns:\n",
    "    df3[column] = df3[column].astype(\"category\").cat.codes\n",
    "\n",
    "# Perform one-hot encoding for columns with multiple categories\n",
    "df = pd.get_dummies(df3, columns=[\"Budget_Preference\", \"Target\"])\n",
    "\n",
    "# Split the dataset into features (X) and target variable (y)\n",
    "X = df3.drop('Target', axis=1)\n",
    "y = df3['Target']"
   ]
  },
  {
   "cell_type": "code",
   "execution_count": 16,
   "metadata": {},
   "outputs": [
    {
     "name": "stdout",
     "output_type": "stream",
     "text": [
      "Accuracy: 0.985\n",
      "Classification Report:\n",
      "               precision    recall  f1-score   support\n",
      "\n",
      "           0       0.98      1.00      0.99       591\n",
      "           1       0.00      0.00      0.00         9\n",
      "\n",
      "    accuracy                           0.98       600\n",
      "   macro avg       0.49      0.50      0.50       600\n",
      "weighted avg       0.97      0.98      0.98       600\n",
      "\n"
     ]
    },
    {
     "name": "stderr",
     "output_type": "stream",
     "text": [
      "d:\\Programming\\VSCode\\Web Development\\ease-assist\\FYP\\recommender-system\\myenv\\Lib\\site-packages\\sklearn\\linear_model\\_logistic.py:460: ConvergenceWarning: lbfgs failed to converge (status=1):\n",
      "STOP: TOTAL NO. of ITERATIONS REACHED LIMIT.\n",
      "\n",
      "Increase the number of iterations (max_iter) or scale the data as shown in:\n",
      "    https://scikit-learn.org/stable/modules/preprocessing.html\n",
      "Please also refer to the documentation for alternative solver options:\n",
      "    https://scikit-learn.org/stable/modules/linear_model.html#logistic-regression\n",
      "  n_iter_i = _check_optimize_result(\n",
      "d:\\Programming\\VSCode\\Web Development\\ease-assist\\FYP\\recommender-system\\myenv\\Lib\\site-packages\\sklearn\\metrics\\_classification.py:1471: UndefinedMetricWarning: Precision and F-score are ill-defined and being set to 0.0 in labels with no predicted samples. Use `zero_division` parameter to control this behavior.\n",
      "  _warn_prf(average, modifier, msg_start, len(result))\n",
      "d:\\Programming\\VSCode\\Web Development\\ease-assist\\FYP\\recommender-system\\myenv\\Lib\\site-packages\\sklearn\\metrics\\_classification.py:1471: UndefinedMetricWarning: Precision and F-score are ill-defined and being set to 0.0 in labels with no predicted samples. Use `zero_division` parameter to control this behavior.\n",
      "  _warn_prf(average, modifier, msg_start, len(result))\n",
      "d:\\Programming\\VSCode\\Web Development\\ease-assist\\FYP\\recommender-system\\myenv\\Lib\\site-packages\\sklearn\\metrics\\_classification.py:1471: UndefinedMetricWarning: Precision and F-score are ill-defined and being set to 0.0 in labels with no predicted samples. Use `zero_division` parameter to control this behavior.\n",
      "  _warn_prf(average, modifier, msg_start, len(result))\n"
     ]
    }
   ],
   "source": [
    "# Split the data into training and testing sets\n",
    "X_train, X_test, y_train, y_test = train_test_split(X, y, test_size=0.2, random_state=42)\n",
    "\n",
    "# Initialize the logistic regression model\n",
    "model = LogisticRegression(random_state=42)\n",
    "\n",
    "# Train the model on the training data\n",
    "model.fit(X_train, y_train)\n",
    "\n",
    "# Make predictions on the testing data\n",
    "y_pred = model.predict(X_test)\n",
    "\n",
    "# Evaluate the model\n",
    "accuracy = accuracy_score(y_test, y_pred)\n",
    "classification_report_result = classification_report(y_test, y_pred)\n",
    "\n",
    "print(f\"Accuracy: {accuracy}\")\n",
    "print(\"Classification Report:\\n\", classification_report_result)"
   ]
  },
  {
   "cell_type": "code",
   "execution_count": null,
   "metadata": {},
   "outputs": [],
   "source": [
    "import tensorflow as tf\n",
    "from tensorflow.keras.models import Sequential\n",
    "from tensorflow.keras.layers import Dense\n",
    "from sklearn.model_selection import train_test_split\n",
    "from sklearn.preprocessing import StandardScaler\n",
    "import pandas as pd\n",
    "\n",
    "# Load your preprocessed dataset\n",
    "df4 = pd.read_csv(\"combined_dataset.csv\")\n",
    "\n",
    "# Split the dataset into features (X) and target variable (y)\n",
    "X1 = df.drop('Target', axis=1)\n",
    "y1 = df['Target']\n",
    "\n",
    "# Split the data into training and testing sets\n",
    "X_train1, X_test1, y_train1, y_test1 = train_test_split(X1, y1, test_size=0.2, random_state=23)\n",
    "\n",
    "# Standardize the features\n",
    "scaler = StandardScaler()\n",
    "X_train_scaled = scaler.fit_transform(X_train1)\n",
    "X_test_scaled = scaler.transform(X_test1)\n",
    "\n",
    "# Build a simple neural network model\n",
    "model = Sequential([\n",
    "    Dense(64, activation='relu', input_shape=(X_train1.shape[1],)),\n",
    "    Dense(1, activation='sigmoid')\n",
    "])\n",
    "\n",
    "# Compile the model\n",
    "model1.compile(optimizer='adam', loss='binary_crossentropy', metrics=['accuracy'])\n",
    "\n",
    "# Train the model with a specified number of epochs\n",
    "epochs = 50  # Adjust the number of epochs as needed\n",
    "model1.fit(X_train_scaled, y_train1, epochs=epochs, validation_data=(X_test_scaled, y_test1))\n"
   ]
  }
 ],
 "metadata": {
  "kernelspec": {
   "display_name": "Python 3",
   "language": "python",
   "name": "python3"
  },
  "language_info": {
   "codemirror_mode": {
    "name": "ipython",
    "version": 3
   },
   "file_extension": ".py",
   "mimetype": "text/x-python",
   "name": "python",
   "nbconvert_exporter": "python",
   "pygments_lexer": "ipython3",
   "version": "3.12.0"
  },
  "orig_nbformat": 4
 },
 "nbformat": 4,
 "nbformat_minor": 2
}
