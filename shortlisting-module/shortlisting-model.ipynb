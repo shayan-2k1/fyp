{
 "cells": [
  {
   "cell_type": "code",
   "execution_count": 1,
   "metadata": {},
   "outputs": [],
   "source": [
    "import numpy as np\n",
    "import pandas as pd\n",
    "import seaborn as sn\n",
    "import matplotlib as plt\n",
    "import tensorflow as tf\n",
    "from tensorflow.keras.models import Sequential\n",
    "from tensorflow.keras.layers import Dense\n",
    "from sklearn.model_selection import train_test_split\n",
    "from sklearn.preprocessing import StandardScaler"
   ]
  },
  {
   "cell_type": "code",
   "execution_count": 13,
   "metadata": {},
   "outputs": [],
   "source": [
    "from itertools import product\n",
    "import io\n",
    "\n",
    "df1 = pd.read_csv(\"./data/student_dataset.csv\")\n",
    "df2 = pd.read_csv(\"./data/scholarship_dataset.csv\")\n",
    "\n",
    "df3=df1.merge(df2, how='cross')"
   ]
  },
  {
   "cell_type": "code",
   "execution_count": 14,
   "metadata": {},
   "outputs": [],
   "source": [
    "def generate_output(row):\n",
    "    if (row['CGPA'] >= row['Required_GPA']):\n",
    "        return 1\n",
    "    else:\n",
    "        return 0"
   ]
  },
  {
   "cell_type": "code",
   "execution_count": 15,
   "metadata": {},
   "outputs": [],
   "source": [
    "df3['Target'] = df3.apply(generate_output, axis=1)\n",
    "\n",
    "df3.to_csv(\"combined_dataset.csv\", index=False)"
   ]
  },
  {
   "cell_type": "code",
   "execution_count": 16,
   "metadata": {},
   "outputs": [
    {
     "name": "stdout",
     "output_type": "stream",
     "text": [
      "Target\n",
      "1    221614\n",
      "0     28386\n",
      "Name: count, dtype: int64\n"
     ]
    }
   ],
   "source": [
    "print(df3['Target'].value_counts())"
   ]
  },
  {
   "cell_type": "code",
   "execution_count": 17,
   "metadata": {},
   "outputs": [],
   "source": [
    "df3 = pd.read_csv(\"combined_dataset.csv\")\n",
    "\n",
    "# Split the dataset into features (X) and target variable (y)\n",
    "X = df3.drop('Target', axis=1)\n",
    "y = df3['Target']\n",
    "\n",
    "# One-hot encode categorical columns\n",
    "categorical_columns = [\"Name\", \"Education_Level\", \"Country_Preference\", \"Domain_Area\", \"Scholarship_Name\",\n",
    "                       \"Scholarship_Type\", \"Education_Preference\", \"Country_of_Scholarship\",\n",
    "                       \"Eligible_Domain\"]\n",
    "\n",
    "X = pd.get_dummies(X, columns=categorical_columns)\n",
    "\n",
    "# Split the data into training and testing sets\n",
    "X_train, X_test, y_train, y_test = train_test_split(X, y, test_size=0.2, random_state=23)\n",
    "\n",
    "# Standardize the features\n",
    "scaler = StandardScaler()\n",
    "X_train_scaled = scaler.fit_transform(X_train)\n",
    "X_test_scaled = scaler.transform(X_test)"
   ]
  },
  {
   "cell_type": "code",
   "execution_count": 22,
   "metadata": {},
   "outputs": [
    {
     "name": "stdout",
     "output_type": "stream",
     "text": [
      "Epoch 1/5\n",
      "\u001b[1m6250/6250\u001b[0m \u001b[32m━━━━━━━━━━━━━━━━━━━━\u001b[0m\u001b[37m\u001b[0m \u001b[1m15s\u001b[0m 2ms/step - accuracy: 0.8840 - loss: 0.2920 - val_accuracy: 0.9972 - val_loss: 0.0209\n",
      "Epoch 2/5\n",
      "\u001b[1m6250/6250\u001b[0m \u001b[32m━━━━━━━━━━━━━━━━━━━━\u001b[0m\u001b[37m\u001b[0m \u001b[1m10s\u001b[0m 2ms/step - accuracy: 0.9974 - loss: 0.0166 - val_accuracy: 0.9972 - val_loss: 0.0131\n",
      "Epoch 3/5\n",
      "\u001b[1m6250/6250\u001b[0m \u001b[32m━━━━━━━━━━━━━━━━━━━━\u001b[0m\u001b[37m\u001b[0m \u001b[1m11s\u001b[0m 2ms/step - accuracy: 0.9973 - loss: 0.0127 - val_accuracy: 0.9972 - val_loss: 0.0130\n",
      "Epoch 4/5\n",
      "\u001b[1m6250/6250\u001b[0m \u001b[32m━━━━━━━━━━━━━━━━━━━━\u001b[0m\u001b[37m\u001b[0m \u001b[1m10s\u001b[0m 2ms/step - accuracy: 0.9974 - loss: 0.0126 - val_accuracy: 0.9972 - val_loss: 0.0130\n",
      "Epoch 5/5\n",
      "\u001b[1m6250/6250\u001b[0m \u001b[32m━━━━━━━━━━━━━━━━━━━━\u001b[0m\u001b[37m\u001b[0m \u001b[1m10s\u001b[0m 2ms/step - accuracy: 0.9972 - loss: 0.0133 - val_accuracy: 0.9972 - val_loss: 0.0130\n"
     ]
    },
    {
     "data": {
      "text/plain": [
       "<keras.src.callbacks.history.History at 0x17b1f3bc740>"
      ]
     },
     "execution_count": 22,
     "metadata": {},
     "output_type": "execute_result"
    }
   ],
   "source": [
    "# Build a simple neural network model\n",
    "model = Sequential([\n",
    "    Dense(4, activation='relu'),\n",
    "    Dense(3, activation='relu'),\n",
    "    Dense(2, activation='relu'),\n",
    "    Dense(1, activation='sigmoid')\n",
    "])\n",
    "\n",
    "# Compile the model\n",
    "model.compile(optimizer='adam', loss='binary_crossentropy', metrics=['accuracy'])\n",
    "\n",
    "# Train the model with a specified number of epochs\n",
    "epochs = 5  # Adjust the number of epochs as needed\n",
    "model.fit(X_train_scaled, y_train, epochs=epochs, validation_data=(X_test_scaled, y_test))"
   ]
  },
  {
   "cell_type": "code",
   "execution_count": 23,
   "metadata": {},
   "outputs": [
    {
     "name": "stdout",
     "output_type": "stream",
     "text": [
      "\u001b[1m1563/1563\u001b[0m \u001b[32m━━━━━━━━━━━━━━━━━━━━\u001b[0m\u001b[37m\u001b[0m \u001b[1m2s\u001b[0m 1ms/step\n",
      "Accuracy: 0.99724\n",
      "Classification Report:\n",
      "              precision    recall  f1-score   support\n",
      "\n",
      "           0       0.98      1.00      0.99      5635\n",
      "           1       1.00      1.00      1.00     44365\n",
      "\n",
      "    accuracy                           1.00     50000\n",
      "   macro avg       0.99      1.00      0.99     50000\n",
      "weighted avg       1.00      1.00      1.00     50000\n",
      "\n",
      "Confusion Matrix:\n",
      "[[ 5635     0]\n",
      " [  138 44227]]\n"
     ]
    }
   ],
   "source": [
    "from sklearn.metrics import accuracy_score, classification_report, confusion_matrix\n",
    "\n",
    "# Predict probabilities for binary classification\n",
    "y_pred_prob = model.predict(X_test_scaled)\n",
    "\n",
    "# Convert probabilities to binary labels\n",
    "y_pred = (y_pred_prob > 0.5).astype(int)\n",
    "\n",
    "# Ensure y_test and y_pred have the same data type and shape\n",
    "y_test = np.array(y_test)\n",
    "y_pred = np.array(y_pred)\n",
    "\n",
    "# Calculate accuracy\n",
    "accuracy = accuracy_score(y_test, y_pred)\n",
    "print(f\"Accuracy: {accuracy}\")\n",
    "\n",
    "# Generate classification report\n",
    "print(\"Classification Report:\")\n",
    "print(classification_report(y_test, y_pred))\n",
    "\n",
    "# Generate confusion matrix\n",
    "print(\"Confusion Matrix:\")\n",
    "print(confusion_matrix(y_test, y_pred))"
   ]
  },
  {
   "cell_type": "code",
   "execution_count": 24,
   "metadata": {},
   "outputs": [],
   "source": [
    "import keras\n",
    "keras.saving.save_model(model,\"shortlisting.keras\")"
   ]
  }
 ],
 "metadata": {
  "kernelspec": {
   "display_name": "Python 3",
   "language": "python",
   "name": "python3"
  },
  "language_info": {
   "codemirror_mode": {
    "name": "ipython",
    "version": 3
   },
   "file_extension": ".py",
   "mimetype": "text/x-python",
   "name": "python",
   "nbconvert_exporter": "python",
   "pygments_lexer": "ipython3",
   "version": "3.12.0"
  }
 },
 "nbformat": 4,
 "nbformat_minor": 2
}
