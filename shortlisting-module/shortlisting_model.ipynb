{
  "cells": [
    {
      "cell_type": "markdown",
      "metadata": {
        "id": "nNIeVqprbkzE"
      },
      "source": [
        "# Pre-Processing the Data"
      ]
    },
    {
      "cell_type": "code",
      "execution_count": null,
      "metadata": {
        "colab": {
          "base_uri": "https://localhost:8080/"
        },
        "id": "PwwQasnUSEpB",
        "outputId": "f7db931c-3bee-4631-c8ad-aae2d0b7d055"
      },
      "outputs": [],
      "source": [
        "import numpy as np\n",
        "import pandas as pd\n",
        "import seaborn as sn\n",
        "import matplotlib.pyplot as plt\n",
        "import tensorflow as tf\n",
        "from tensorflow import keras\n",
        "from tensorflow.keras.models import Sequential, load_model\n",
        "from tensorflow.keras.layers import Dense\n",
        "from sklearn.model_selection import train_test_split\n",
        "from sklearn.preprocessing import StandardScaler, LabelEncoder\n",
        "import pickle\n",
        "\n",
        "# Load datasets\n",
        "df1 = pd.read_csv(\"./data/student_dataset.csv\")\n",
        "df2 = pd.read_csv(\"./data/scholarship_dataset.csv\")\n",
        "\n",
        "# Merge datasets\n",
        "df3 = df1.merge(df2, how='cross')\n",
        "\n",
        "# Function to generate target variable\n",
        "def generate_output(row):\n",
        "    if (((row['Education_Level'],row['Scholarship_Level'])==('BS','Masters')) |\n",
        "        ((row['Education_Level'],row['Scholarship_Level'])==('Masters','PhD')) |\n",
        "        ((row['Education_Level'],row['Scholarship_Level'])==('PhD','PhD'))) & (row['CGPA'] >= row['Required_GPA']):\n",
        "        return 1\n",
        "    else:\n",
        "        return 0\n",
        "\n",
        "df3['Target'] = df3.apply(generate_output, axis=1)\n",
        "\n",
        "# Drop unnecessary columns\n",
        "df3.drop(['Name', 'Budget_Prefrence', 'Scholarship_Name', 'Scholarship_Type',\n",
        "           'Scholarship_Budget','Eligible_Domain','Domain_Area',\n",
        "           'Country_of_Scholarship','Country_Preference'], axis=1, inplace=True)\n",
        "\n",
        "# Save merged dataset\n",
        "df3.to_csv(\"combined_dataset.csv\", index=False)\n",
        "\n",
        "print(df3['Target'].value_counts())\n",
        "\n",
        "# Load the dataset\n",
        "df3 = pd.read_csv(\"combined_dataset.csv\")\n",
        "\n",
        "# Initialize a dictionary to store label encoders for each column\n",
        "label_encoders = {}\n",
        "\n",
        "# Apply label encoding to each categorical column separately\n",
        "for col in df3.select_dtypes(include=['object']).columns:\n",
        "    label_encoder = LabelEncoder()\n",
        "    df3[col] = label_encoder.fit_transform(df3[col])\n",
        "    label_encoders[col] = label_encoder\n",
        "\n",
        "# Split the dataset into features (X) and target variable (y)\n",
        "X = df3.drop('Target', axis=1)\n",
        "y = df3['Target']\n",
        "\n",
        "# Split the data into training and testing sets\n",
        "X_train, X_test, y_train, y_test = train_test_split(X, y, test_size=0.2, random_state=23)\n",
        "\n",
        "# Standardize the features\n",
        "scaler = StandardScaler()\n",
        "X_train_scaled = scaler.fit_transform(X_train)\n",
        "X_test_scaled = scaler.transform(X_test)\n"
      ]
    },
    {
      "cell_type": "markdown",
      "metadata": {
        "id": "joMlzO0Zbkzx"
      },
      "source": [
        "# Training the Model"
      ]
    },
    {
      "cell_type": "code",
      "execution_count": null,
      "metadata": {
        "colab": {
          "base_uri": "https://localhost:8080/",
          "height": 206
        },
        "id": "NdAVaK2Jbkzx",
        "outputId": "c9ba5bad-dc30-4691-bf9b-410e93e511f0"
      },
      "outputs": [],
      "source": [
        "X_train.head()"
      ]
    },
    {
      "cell_type": "code",
      "execution_count": 37,
      "metadata": {
        "id": "_TzYuqkEjGcM"
      },
      "outputs": [],
      "source": []
    },
    {
      "cell_type": "code",
      "execution_count": null,
      "metadata": {
        "colab": {
          "base_uri": "https://localhost:8080/"
        },
        "id": "gGo0W2_3SXlP",
        "outputId": "1c8024c2-88ed-42c8-80bd-5a578bdedfd4"
      },
      "outputs": [],
      "source": [
        "from tensorflow.keras.callbacks import EarlyStopping\n",
        "\n",
        "early_stop=EarlyStopping(monitor='val_loss',patience=2)\n",
        "\n",
        "# Build a simple neural network model\n",
        "model = Sequential([\n",
        "    Dense(4, activation='relu',kernel_regularizer=keras.regularizers.l2(0.1)),\n",
        "    Dense(2, activation='relu',kernel_regularizer=keras.regularizers.l2(0.1)),\n",
        "    Dense(1, activation='sigmoid')\n",
        "])\n",
        "\n",
        "# Compile the model\n",
        "model.compile(optimizer='adam', loss='binary_crossentropy', metrics=['accuracy'])\n",
        "\n",
        "# Train the model with a specified number of epochs\n",
        "epochs = 10  # Adjust the number of epochs as needed\n",
        "history = model.fit(X_train_scaled, y_train, epochs=epochs, validation_data=(X_test_scaled, y_test),callbacks=[early_stop])"
      ]
    },
    {
      "cell_type": "markdown",
      "metadata": {
        "id": "HHe6B9vpbkzz"
      },
      "source": [
        "# Evaluating the Model"
      ]
    },
    {
      "cell_type": "code",
      "execution_count": null,
      "metadata": {
        "colab": {
          "base_uri": "https://localhost:8080/",
          "height": 764
        },
        "id": "Mh3Sk7FjS3Vo",
        "outputId": "6e5d502e-ae63-452a-8b86-be1d663bb0ee"
      },
      "outputs": [],
      "source": [
        "# Plot the training and validation loss\n",
        "plt.plot(history.history['loss'], label='Training Loss')\n",
        "plt.plot(history.history['val_loss'], label='Validation Loss')\n",
        "plt.title('Training and Validation Loss')\n",
        "plt.xlabel('Epoch')\n",
        "plt.ylabel('Loss')\n",
        "plt.legend()\n",
        "plt.show()\n",
        "\n",
        "# Evaluate the model\n",
        "_, accuracy = model.evaluate(X_test_scaled, y_test)\n",
        "print(f\"Accuracy: {accuracy}\")\n",
        "\n",
        "# Generate classification report and confusion matrix\n",
        "from sklearn.metrics import classification_report, confusion_matrix\n",
        "\n",
        "y_pred_prob = model.predict(X_test_scaled)\n",
        "y_pred = (y_pred_prob > 0.5).astype(int)\n",
        "\n",
        "print(\"Classification Report:\")\n",
        "print(classification_report(y_test, y_pred))\n",
        "\n",
        "print(\"Confusion Matrix:\")\n",
        "print(confusion_matrix(y_test, y_pred))"
      ]
    },
    {
      "cell_type": "markdown",
      "metadata": {
        "id": "hYP05uCMbkz1"
      },
      "source": [
        "# Saving the Model"
      ]
    },
    {
      "cell_type": "code",
      "execution_count": null,
      "metadata": {
        "colab": {
          "base_uri": "https://localhost:8080/"
        },
        "id": "LeDDp5tITGEb",
        "outputId": "2f309e25-d4e1-446b-e26e-42c6febad3f5"
      },
      "outputs": [],
      "source": [
        "# Save the model\n",
        "model.save(\"my_model.h5\")\n",
        "\n",
        "# Save label encoders to disk\n",
        "with open(\"label_encoders.pkl\", \"wb\") as f:\n",
        "    pickle.dump(label_encoders, f)\n",
        "\n",
        "# Save the scaler\n",
        "with open(\"scaler.pkl\", \"wb\") as f:\n",
        "    pickle.dump(scaler, f)"
      ]
    },
    {
      "cell_type": "markdown",
      "metadata": {
        "id": "EdPa2-xsbkz2"
      },
      "source": [
        "# Making the Predictions"
      ]
    },
    {
      "cell_type": "code",
      "execution_count": null,
      "metadata": {
        "colab": {
          "base_uri": "https://localhost:8080/",
          "height": 206
        },
        "id": "5Er1oWrxVcGd",
        "outputId": "a208152b-22d1-4a63-aa93-9241ac26d88b"
      },
      "outputs": [],
      "source": [
        "df3.head()"
      ]
    },
    {
      "cell_type": "code",
      "execution_count": null,
      "metadata": {
        "colab": {
          "base_uri": "https://localhost:8080/"
        },
        "id": "TWjPEmZhVuEM",
        "outputId": "6d1aa0ac-3e92-4927-e602-f421647aea0f"
      },
      "outputs": [],
      "source": [
        "for col, label_encoder in label_encoders.items():\n",
        "    print(f\"Column: {col}\")\n",
        "    print(list(label_encoder.classes_))\n",
        "    print()"
      ]
    },
    {
      "cell_type": "code",
      "execution_count": null,
      "metadata": {
        "colab": {
          "base_uri": "https://localhost:8080/"
        },
        "id": "3owi1TOWV_GB",
        "outputId": "5c16c11c-f65e-4543-8335-82ec0ea9da69"
      },
      "outputs": [],
      "source": [
        "# Load the saved model\n",
        "loaded_model = load_model(\"my_model.h5\")\n",
        "\n",
        "# Load label encoder from disk\n",
        "with open(\"label_encoders.pkl\", \"rb\") as f:\n",
        "    label_encoder = pickle.load(f)\n",
        "\n",
        "# Load the scaler\n",
        "with open(\"scaler.pkl\", \"rb\") as f:\n",
        "    scaler = pickle.load(f)\n",
        "\n",
        "# Sample raw data\n",
        "raw_data = pd.DataFrame({\n",
        "    'CGPA': ['3.8'],\n",
        "    'Education_Level': ['BS'],\n",
        "    'Required_GPA': ['3'],\n",
        "    'Scholarship_Level': ['PhD'],\n",
        "})\n",
        "\n",
        "categorical_cols = ['Education_Level', 'Scholarship_Level']\n",
        "numeric_cols = ['CGPA', 'Required_GPA']\n",
        "\n",
        "# Initialize an empty DataFrame to store encoded raw data\n",
        "encoded_raw_data = pd.DataFrame()\n",
        "\n",
        "# Encode categorical features in the raw data using the loaded label encoders\n",
        "for col in raw_data.columns:\n",
        "    if col in label_encoder:\n",
        "        label_encoder_col = label_encoder[col]\n",
        "        encoded_raw_data[col] = label_encoder_col.transform(raw_data[col])\n",
        "    else:\n",
        "        encoded_raw_data[col] = raw_data[col]\n",
        "\n",
        "# Scale the numerical columns\n",
        "# scaled_numeric_data = scaler.transform(raw_data[numeric_cols])\n",
        "scaled_numeric_data = scaler.transform(encoded_raw_data)\n",
        "\n",
        "print(scaled_numeric_data)\n",
        "# Make predictions with the loaded model\n",
        "predictions = loaded_model.predict(scaled_numeric_data)\n",
        "\n",
        "# Set the threshold\n",
        "threshold = 0.5\n",
        "\n",
        "# Apply threshold to convert probabilities to class labels\n",
        "binary_predictions = (predictions > threshold).astype(int)\n",
        "\n",
        "# Display the class labels\n",
        "print(\"Class Labels (Predictions):\")\n",
        "print(binary_predictions[0][0])\n"
      ]
    }
  ],
  "metadata": {
    "accelerator": "GPU",
    "colab": {
      "gpuType": "T4",
      "provenance": []
    },
    "kernelspec": {
      "display_name": "Python 3",
      "name": "python3"
    },
    "language_info": {
      "codemirror_mode": {
        "name": "ipython",
        "version": 3
      },
      "file_extension": ".py",
      "mimetype": "text/x-python",
      "name": "python",
      "nbconvert_exporter": "python",
      "pygments_lexer": "ipython3",
      "version": "3.12.2"
    }
  },
  "nbformat": 4,
  "nbformat_minor": 0
}
