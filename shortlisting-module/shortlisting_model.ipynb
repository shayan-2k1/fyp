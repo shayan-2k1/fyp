{
  "cells": [
    {
      "cell_type": "markdown",
      "metadata": {
        "id": "nNIeVqprbkzE"
      },
      "source": [
        "# Pre-Processing the Data"
      ]
    },
    {
      "cell_type": "code",
      "execution_count": 1,
      "metadata": {
        "colab": {
          "base_uri": "https://localhost:8080/"
        },
        "id": "PwwQasnUSEpB",
        "outputId": "f7db931c-3bee-4631-c8ad-aae2d0b7d055"
      },
      "outputs": [
        {
          "name": "stdout",
          "output_type": "stream",
          "text": [
            "Target\n",
            "0    171918\n",
            "1     78082\n",
            "Name: count, dtype: int64\n"
          ]
        }
      ],
      "source": [
        "import numpy as np\n",
        "import pandas as pd\n",
        "import seaborn as sn\n",
        "import matplotlib.pyplot as plt\n",
        "import tensorflow as tf\n",
        "from tensorflow import keras\n",
        "from tensorflow.keras.models import Sequential, load_model\n",
        "from tensorflow.keras.layers import Dense\n",
        "from sklearn.model_selection import train_test_split\n",
        "from sklearn.preprocessing import StandardScaler, LabelEncoder\n",
        "import pickle\n",
        "\n",
        "# Load datasets\n",
        "df1 = pd.read_csv(\"./data/student_dataset.csv\")\n",
        "df2 = pd.read_csv(\"./data/scholarship_dataset.csv\")\n",
        "\n",
        "# Merge datasets\n",
        "df3 = df1.merge(df2, how='cross')\n",
        "\n",
        "# Function to generate target variable\n",
        "def generate_output(row):\n",
        "    if (((row['Education_Level'],row['Scholarship_Level'])==('BS','Masters')) |\n",
        "        ((row['Education_Level'],row['Scholarship_Level'])==('Masters','PhD')) |\n",
        "        ((row['Education_Level'],row['Scholarship_Level'])==('PhD','PhD'))) & (row['CGPA'] >= row['Required_GPA']):\n",
        "        return 1\n",
        "    else:\n",
        "        return 0\n",
        "\n",
        "df3['Target'] = df3.apply(generate_output, axis=1)\n",
        "\n",
        "# Drop unnecessary columns\n",
        "df3.drop(['Name', 'Budget_Prefrence', 'Scholarship_Name', 'Scholarship_Type',\n",
        "           'Scholarship_Budget','Eligible_Domain','Domain_Area',\n",
        "           'Country_of_Scholarship','Country_Preference'], axis=1, inplace=True)\n",
        "\n",
        "# Save merged dataset\n",
        "df3.to_csv(\"combined_dataset.csv\", index=False)\n",
        "\n",
        "print(df3['Target'].value_counts())\n",
        "\n",
        "# Load the dataset\n",
        "df3 = pd.read_csv(\"combined_dataset.csv\")\n",
        "\n",
        "# Initialize a dictionary to store label encoders for each column\n",
        "label_encoders = {}\n",
        "\n",
        "# Apply label encoding to each categorical column separately\n",
        "for col in df3.select_dtypes(include=['object']).columns:\n",
        "    label_encoder = LabelEncoder()\n",
        "    df3[col] = label_encoder.fit_transform(df3[col])\n",
        "    label_encoders[col] = label_encoder\n",
        "\n",
        "# Split the dataset into features (X) and target variable (y)\n",
        "X = df3.drop('Target', axis=1)\n",
        "y = df3['Target']\n",
        "\n",
        "# Split the data into training and testing sets\n",
        "X_train, X_test, y_train, y_test = train_test_split(X, y, test_size=0.2, random_state=23)\n",
        "\n",
        "# Standardize the features\n",
        "scaler = StandardScaler()\n",
        "X_train_scaled = scaler.fit_transform(X_train)\n",
        "X_test_scaled = scaler.transform(X_test)\n"
      ]
    },
    {
      "cell_type": "markdown",
      "metadata": {
        "id": "joMlzO0Zbkzx"
      },
      "source": [
        "# Training the Model"
      ]
    },
    {
      "cell_type": "code",
      "execution_count": 2,
      "metadata": {
        "colab": {
          "base_uri": "https://localhost:8080/",
          "height": 206
        },
        "id": "NdAVaK2Jbkzx",
        "outputId": "c9ba5bad-dc30-4691-bf9b-410e93e511f0"
      },
      "outputs": [
        {
          "data": {
            "text/html": [
              "<div>\n",
              "<style scoped>\n",
              "    .dataframe tbody tr th:only-of-type {\n",
              "        vertical-align: middle;\n",
              "    }\n",
              "\n",
              "    .dataframe tbody tr th {\n",
              "        vertical-align: top;\n",
              "    }\n",
              "\n",
              "    .dataframe thead th {\n",
              "        text-align: right;\n",
              "    }\n",
              "</style>\n",
              "<table border=\"1\" class=\"dataframe\">\n",
              "  <thead>\n",
              "    <tr style=\"text-align: right;\">\n",
              "      <th></th>\n",
              "      <th>CGPA</th>\n",
              "      <th>Education_Level</th>\n",
              "      <th>Required_GPA</th>\n",
              "      <th>Scholarship_Level</th>\n",
              "    </tr>\n",
              "  </thead>\n",
              "  <tbody>\n",
              "    <tr>\n",
              "      <th>46108</th>\n",
              "      <td>3.11</td>\n",
              "      <td>1</td>\n",
              "      <td>2.5</td>\n",
              "      <td>2</td>\n",
              "    </tr>\n",
              "    <tr>\n",
              "      <th>99208</th>\n",
              "      <td>3.93</td>\n",
              "      <td>1</td>\n",
              "      <td>2.0</td>\n",
              "      <td>2</td>\n",
              "    </tr>\n",
              "    <tr>\n",
              "      <th>132612</th>\n",
              "      <td>3.73</td>\n",
              "      <td>0</td>\n",
              "      <td>2.5</td>\n",
              "      <td>1</td>\n",
              "    </tr>\n",
              "    <tr>\n",
              "      <th>172436</th>\n",
              "      <td>3.54</td>\n",
              "      <td>0</td>\n",
              "      <td>2.0</td>\n",
              "      <td>2</td>\n",
              "    </tr>\n",
              "    <tr>\n",
              "      <th>9907</th>\n",
              "      <td>3.73</td>\n",
              "      <td>1</td>\n",
              "      <td>2.5</td>\n",
              "      <td>2</td>\n",
              "    </tr>\n",
              "  </tbody>\n",
              "</table>\n",
              "</div>"
            ],
            "text/plain": [
              "        CGPA  Education_Level  Required_GPA  Scholarship_Level\n",
              "46108   3.11                1           2.5                  2\n",
              "99208   3.93                1           2.0                  2\n",
              "132612  3.73                0           2.5                  1\n",
              "172436  3.54                0           2.0                  2\n",
              "9907    3.73                1           2.5                  2"
            ]
          },
          "execution_count": 2,
          "metadata": {},
          "output_type": "execute_result"
        }
      ],
      "source": [
        "X_train.head()"
      ]
    },
    {
      "cell_type": "code",
      "execution_count": 37,
      "metadata": {
        "id": "_TzYuqkEjGcM"
      },
      "outputs": [],
      "source": []
    },
    {
      "cell_type": "code",
      "execution_count": 3,
      "metadata": {
        "colab": {
          "base_uri": "https://localhost:8080/"
        },
        "id": "gGo0W2_3SXlP",
        "outputId": "1c8024c2-88ed-42c8-80bd-5a578bdedfd4"
      },
      "outputs": [
        {
          "name": "stdout",
          "output_type": "stream",
          "text": [
            "Epoch 1/10\n",
            "\u001b[1m6250/6250\u001b[0m \u001b[32m━━━━━━━━━━━━━━━━━━━━\u001b[0m\u001b[37m\u001b[0m \u001b[1m32s\u001b[0m 5ms/step - accuracy: 0.7411 - loss: 0.6927 - val_accuracy: 0.8711 - val_loss: 0.4202\n",
            "Epoch 2/10\n",
            "\u001b[1m6250/6250\u001b[0m \u001b[32m━━━━━━━━━━━━━━━━━━━━\u001b[0m\u001b[37m\u001b[0m \u001b[1m32s\u001b[0m 5ms/step - accuracy: 0.8926 - loss: 0.4034 - val_accuracy: 0.9409 - val_loss: 0.3514\n",
            "Epoch 3/10\n",
            "\u001b[1m6250/6250\u001b[0m \u001b[32m━━━━━━━━━━━━━━━━━━━━\u001b[0m\u001b[37m\u001b[0m \u001b[1m31s\u001b[0m 5ms/step - accuracy: 0.9464 - loss: 0.3415 - val_accuracy: 0.9694 - val_loss: 0.3071\n",
            "Epoch 4/10\n",
            "\u001b[1m6250/6250\u001b[0m \u001b[32m━━━━━━━━━━━━━━━━━━━━\u001b[0m\u001b[37m\u001b[0m \u001b[1m30s\u001b[0m 5ms/step - accuracy: 0.9668 - loss: 0.2977 - val_accuracy: 0.9730 - val_loss: 0.2749\n",
            "Epoch 5/10\n",
            "\u001b[1m6250/6250\u001b[0m \u001b[32m━━━━━━━━━━━━━━━━━━━━\u001b[0m\u001b[37m\u001b[0m \u001b[1m31s\u001b[0m 5ms/step - accuracy: 0.9706 - loss: 0.2693 - val_accuracy: 0.9738 - val_loss: 0.2506\n",
            "Epoch 6/10\n",
            "\u001b[1m6250/6250\u001b[0m \u001b[32m━━━━━━━━━━━━━━━━━━━━\u001b[0m\u001b[37m\u001b[0m \u001b[1m33s\u001b[0m 5ms/step - accuracy: 0.9731 - loss: 0.2480 - val_accuracy: 0.9737 - val_loss: 0.2326\n",
            "Epoch 7/10\n",
            "\u001b[1m6250/6250\u001b[0m \u001b[32m━━━━━━━━━━━━━━━━━━━━\u001b[0m\u001b[37m\u001b[0m \u001b[1m32s\u001b[0m 5ms/step - accuracy: 0.9741 - loss: 0.2302 - val_accuracy: 0.9792 - val_loss: 0.2197\n",
            "Epoch 8/10\n",
            "\u001b[1m6250/6250\u001b[0m \u001b[32m━━━━━━━━━━━━━━━━━━━━\u001b[0m\u001b[37m\u001b[0m \u001b[1m33s\u001b[0m 5ms/step - accuracy: 0.9745 - loss: 0.2185 - val_accuracy: 0.9716 - val_loss: 0.2070\n",
            "Epoch 9/10\n",
            "\u001b[1m6250/6250\u001b[0m \u001b[32m━━━━━━━━━━━━━━━━━━━━\u001b[0m\u001b[37m\u001b[0m \u001b[1m29s\u001b[0m 5ms/step - accuracy: 0.9761 - loss: 0.2064 - val_accuracy: 0.9698 - val_loss: 0.1983\n",
            "Epoch 10/10\n",
            "\u001b[1m6250/6250\u001b[0m \u001b[32m━━━━━━━━━━━━━━━━━━━━\u001b[0m\u001b[37m\u001b[0m \u001b[1m30s\u001b[0m 5ms/step - accuracy: 0.9789 - loss: 0.1949 - val_accuracy: 0.9948 - val_loss: 0.1716\n"
          ]
        }
      ],
      "source": [
        "from tensorflow.keras.callbacks import EarlyStopping\n",
        "\n",
        "early_stop=EarlyStopping(monitor='val_loss',patience=2)\n",
        "\n",
        "# Build a simple neural network model\n",
        "model = Sequential([\n",
        "    Dense(4, activation='relu',kernel_regularizer=keras.regularizers.l2(0.1)),\n",
        "    Dense(2, activation='relu',kernel_regularizer=keras.regularizers.l2(0.1)),\n",
        "    Dense(1, activation='sigmoid')\n",
        "])\n",
        "\n",
        "# Compile the model\n",
        "model.compile(optimizer='adam', loss='binary_crossentropy', metrics=['accuracy'])\n",
        "\n",
        "# Train the model with a specified number of epochs\n",
        "epochs = 10  # Adjust the number of epochs as needed\n",
        "history = model.fit(X_train_scaled, y_train, epochs=epochs, validation_data=(X_test_scaled, y_test),callbacks=[early_stop])"
      ]
    },
    {
      "cell_type": "markdown",
      "metadata": {
        "id": "HHe6B9vpbkzz"
      },
      "source": [
        "# Evaluating the Model"
      ]
    },
    {
      "cell_type": "code",
      "execution_count": 4,
      "metadata": {
        "colab": {
          "base_uri": "https://localhost:8080/",
          "height": 764
        },
        "id": "Mh3Sk7FjS3Vo",
        "outputId": "6e5d502e-ae63-452a-8b86-be1d663bb0ee"
      },
      "outputs": [
        {
          "data": {
            "image/png": "[encoded data removed]",
            "text/plain": [
              "<Figure size 640x480 with 1 Axes>"
            ]
          },
          "metadata": {},
          "output_type": "display_data"
        },
        {
          "name": "stdout",
          "output_type": "stream",
          "text": [
            "\u001b[1m1563/1563\u001b[0m \u001b[32m━━━━━━━━━━━━━━━━━━━━\u001b[0m\u001b[37m\u001b[0m \u001b[1m4s\u001b[0m 2ms/step - accuracy: 0.9948 - loss: 0.1711\n",
            "Accuracy: 0.9947999715805054\n",
            "\u001b[1m1563/1563\u001b[0m \u001b[32m━━━━━━━━━━━━━━━━━━━━\u001b[0m\u001b[37m\u001b[0m \u001b[1m5s\u001b[0m 3ms/step\n",
            "Classification Report:\n",
            "              precision    recall  f1-score   support\n",
            "\n",
            "           0       1.00      0.99      1.00     34314\n",
            "           1       0.99      1.00      0.99     15686\n",
            "\n",
            "    accuracy                           0.99     50000\n",
            "   macro avg       0.99      1.00      0.99     50000\n",
            "weighted avg       0.99      0.99      0.99     50000\n",
            "\n",
            "Confusion Matrix:\n",
            "[[34111   203]\n",
            " [   57 15629]]\n"
          ]
        }
      ],
      "source": [
        "# Plot the training and validation loss\n",
        "plt.plot(history.history['loss'], label='Training Loss')\n",
        "plt.plot(history.history['val_loss'], label='Validation Loss')\n",
        "plt.title('Training and Validation Loss')\n",
        "plt.xlabel('Epoch')\n",
        "plt.ylabel('Loss')\n",
        "plt.legend()\n",
        "plt.show()\n",
        "\n",
        "# Evaluate the model\n",
        "_, accuracy = model.evaluate(X_test_scaled, y_test)\n",
        "print(f\"Accuracy: {accuracy}\")\n",
        "\n",
        "# Generate classification report and confusion matrix\n",
        "from sklearn.metrics import classification_report, confusion_matrix\n",
        "\n",
        "y_pred_prob = model.predict(X_test_scaled)\n",
        "y_pred = (y_pred_prob > 0.5).astype(int)\n",
        "\n",
        "print(\"Classification Report:\")\n",
        "print(classification_report(y_test, y_pred))\n",
        "\n",
        "print(\"Confusion Matrix:\")\n",
        "print(confusion_matrix(y_test, y_pred))"
      ]
    },
    {
      "cell_type": "markdown",
      "metadata": {
        "id": "hYP05uCMbkz1"
      },
      "source": [
        "# Saving the Model"
      ]
    },
    {
      "cell_type": "code",
      "execution_count": 5,
      "metadata": {
        "colab": {
          "base_uri": "https://localhost:8080/"
        },
        "id": "LeDDp5tITGEb",
        "outputId": "2f309e25-d4e1-446b-e26e-42c6febad3f5"
      },
      "outputs": [
        {
          "name": "stderr",
          "output_type": "stream",
          "text": [
            "WARNING:absl:You are saving your model as an HDF5 file via `model.save()` or `keras.saving.save_model(model)`. This file format is considered legacy. We recommend using instead the native Keras format, e.g. `model.save('my_model.keras')` or `keras.saving.save_model(model, 'my_model.keras')`. \n"
          ]
        }
      ],
      "source": [
        "# Save the model\n",
        "model.save(\"my_model.h5\")\n",
        "\n",
        "# Save label encoders to disk\n",
        "with open(\"label_encoders.pkl\", \"wb\") as f:\n",
        "    pickle.dump(label_encoders, f)\n",
        "\n",
        "# Save the scaler\n",
        "with open(\"scaler.pkl\", \"wb\") as f:\n",
        "    pickle.dump(scaler, f)"
      ]
    },
    {
      "cell_type": "markdown",
      "metadata": {
        "id": "EdPa2-xsbkz2"
      },
      "source": [
        "# Making the Predictions"
      ]
    },
    {
      "cell_type": "code",
      "execution_count": 6,
      "metadata": {
        "colab": {
          "base_uri": "https://localhost:8080/",
          "height": 206
        },
        "id": "5Er1oWrxVcGd",
        "outputId": "a208152b-22d1-4a63-aa93-9241ac26d88b"
      },
      "outputs": [
        {
          "data": {
            "text/html": [
              "<div>\n",
              "<style scoped>\n",
              "    .dataframe tbody tr th:only-of-type {\n",
              "        vertical-align: middle;\n",
              "    }\n",
              "\n",
              "    .dataframe tbody tr th {\n",
              "        vertical-align: top;\n",
              "    }\n",
              "\n",
              "    .dataframe thead th {\n",
              "        text-align: right;\n",
              "    }\n",
              "</style>\n",
              "<table border=\"1\" class=\"dataframe\">\n",
              "  <thead>\n",
              "    <tr style=\"text-align: right;\">\n",
              "      <th></th>\n",
              "      <th>CGPA</th>\n",
              "      <th>Education_Level</th>\n",
              "      <th>Required_GPA</th>\n",
              "      <th>Scholarship_Level</th>\n",
              "      <th>Target</th>\n",
              "    </tr>\n",
              "  </thead>\n",
              "  <tbody>\n",
              "    <tr>\n",
              "      <th>0</th>\n",
              "      <td>2.59</td>\n",
              "      <td>0</td>\n",
              "      <td>2.0</td>\n",
              "      <td>2</td>\n",
              "      <td>0</td>\n",
              "    </tr>\n",
              "    <tr>\n",
              "      <th>1</th>\n",
              "      <td>2.59</td>\n",
              "      <td>0</td>\n",
              "      <td>3.0</td>\n",
              "      <td>1</td>\n",
              "      <td>0</td>\n",
              "    </tr>\n",
              "    <tr>\n",
              "      <th>2</th>\n",
              "      <td>2.59</td>\n",
              "      <td>0</td>\n",
              "      <td>3.0</td>\n",
              "      <td>1</td>\n",
              "      <td>0</td>\n",
              "    </tr>\n",
              "    <tr>\n",
              "      <th>3</th>\n",
              "      <td>2.59</td>\n",
              "      <td>0</td>\n",
              "      <td>2.0</td>\n",
              "      <td>2</td>\n",
              "      <td>0</td>\n",
              "    </tr>\n",
              "    <tr>\n",
              "      <th>4</th>\n",
              "      <td>2.59</td>\n",
              "      <td>0</td>\n",
              "      <td>2.5</td>\n",
              "      <td>2</td>\n",
              "      <td>0</td>\n",
              "    </tr>\n",
              "  </tbody>\n",
              "</table>\n",
              "</div>"
            ],
            "text/plain": [
              "   CGPA  Education_Level  Required_GPA  Scholarship_Level  Target\n",
              "0  2.59                0           2.0                  2       0\n",
              "1  2.59                0           3.0                  1       0\n",
              "2  2.59                0           3.0                  1       0\n",
              "3  2.59                0           2.0                  2       0\n",
              "4  2.59                0           2.5                  2       0"
            ]
          },
          "execution_count": 6,
          "metadata": {},
          "output_type": "execute_result"
        }
      ],
      "source": [
        "df3.head()"
      ]
    },
    {
      "cell_type": "code",
      "execution_count": 7,
      "metadata": {
        "colab": {
          "base_uri": "https://localhost:8080/"
        },
        "id": "TWjPEmZhVuEM",
        "outputId": "6d1aa0ac-3e92-4927-e602-f421647aea0f"
      },
      "outputs": [
        {
          "name": "stdout",
          "output_type": "stream",
          "text": [
            "Column: Education_Level\n",
            "['BS', 'Masters', 'PhD']\n",
            "\n",
            "Column: Scholarship_Level\n",
            "['BS', 'Masters', 'PhD']\n",
            "\n"
          ]
        }
      ],
      "source": [
        "for col, label_encoder in label_encoders.items():\n",
        "    print(f\"Column: {col}\")\n",
        "    print(list(label_encoder.classes_))\n",
        "    print()"
      ]
    },
    {
      "cell_type": "code",
      "execution_count": null,
      "metadata": {
        "id": "eGBm-t54xLhY"
      },
      "outputs": [],
      "source": []
    },
    {
      "cell_type": "code",
      "execution_count": 8,
      "metadata": {
        "colab": {
          "base_uri": "https://localhost:8080/"
        },
        "id": "3owi1TOWV_GB",
        "outputId": "5c16c11c-f65e-4543-8335-82ec0ea9da69"
      },
      "outputs": [
        {
          "name": "stderr",
          "output_type": "stream",
          "text": [
            "WARNING:absl:Compiled the loaded model, but the compiled metrics have yet to be built. `model.compile_metrics` will be empty until you train or evaluate the model.\n"
          ]
        },
        {
          "name": "stdout",
          "output_type": "stream",
          "text": [
            "[[ 1.23133345 -1.20888111  1.25657532  1.15498722]]\n",
            "\u001b[1m1/1\u001b[0m \u001b[32m━━━━━━━━━━━━━━━━━━━━\u001b[0m\u001b[37m\u001b[0m \u001b[1m0s\u001b[0m 133ms/step\n",
            "Class Labels (Predictions):\n",
            "0\n"
          ]
        }
      ],
      "source": [
        "# Load the saved model\n",
        "loaded_model = load_model(\"my_model.h5\")\n",
        "\n",
        "# Load label encoder from disk\n",
        "with open(\"label_encoders.pkl\", \"rb\") as f:\n",
        "    label_encoder = pickle.load(f)\n",
        "\n",
        "# Load the scaler\n",
        "with open(\"scaler.pkl\", \"rb\") as f:\n",
        "    scaler = pickle.load(f)\n",
        "\n",
        "# Sample raw data\n",
        "raw_data = pd.DataFrame({\n",
        "    'CGPA': ['3.8'],\n",
        "    'Education_Level': ['BS'],\n",
        "    'Required_GPA': ['3'],\n",
        "    'Scholarship_Level': ['PhD'],\n",
        "})\n",
        "\n",
        "categorical_cols = ['Education_Level', 'Scholarship_Level']\n",
        "numeric_cols = ['CGPA', 'Required_GPA']\n",
        "\n",
        "# Initialize an empty DataFrame to store encoded raw data\n",
        "encoded_raw_data = pd.DataFrame()\n",
        "\n",
        "# Encode categorical features in the raw data using the loaded label encoders\n",
        "for col in raw_data.columns:\n",
        "    if col in label_encoder:\n",
        "        label_encoder_col = label_encoder[col]\n",
        "        encoded_raw_data[col] = label_encoder_col.transform(raw_data[col])\n",
        "    else:\n",
        "        encoded_raw_data[col] = raw_data[col]\n",
        "\n",
        "# Scale the numerical columns\n",
        "# scaled_numeric_data = scaler.transform(raw_data[numeric_cols])\n",
        "scaled_numeric_data = scaler.transform(encoded_raw_data)\n",
        "\n",
        "print(scaled_numeric_data)\n",
        "# Make predictions with the loaded model\n",
        "predictions = loaded_model.predict(scaled_numeric_data)\n",
        "\n",
        "# Set the threshold\n",
        "threshold = 0.5\n",
        "\n",
        "# Apply threshold to convert probabilities to class labels\n",
        "binary_predictions = (predictions > threshold).astype(int)\n",
        "\n",
        "# Display the class labels\n",
        "print(\"Class Labels (Predictions):\")\n",
        "print(binary_predictions[0][0])\n"
      ]
    },
    {
      "cell_type": "code",
      "execution_count": null,
      "metadata": {
        "id": "PFzyQj4slV-L"
      },
      "outputs": [],
      "source": []
    }
  ],
  "metadata": {
    "accelerator": "GPU",
    "colab": {
      "gpuType": "T4",
      "provenance": []
    },
    "kernelspec": {
      "display_name": "Python 3",
      "name": "python3"
    },
    "language_info": {
      "codemirror_mode": {
        "name": "ipython",
        "version": 3
      },
      "file_extension": ".py",
      "mimetype": "text/x-python",
      "name": "python",
      "nbconvert_exporter": "python",
      "pygments_lexer": "ipython3",
      "version": "3.12.2"
    }
  },
  "nbformat": 4,
  "nbformat_minor": 0
}
