{
  "nbformat": 4,
  "nbformat_minor": 0,
  "metadata": {
    "colab": {
      "provenance": [],
      "gpuType": "T4"
    },
    "kernelspec": {
      "name": "python3",
      "display_name": "Python 3"
    },
    "language_info": {
      "name": "python"
    },
    "accelerator": "GPU"
  },
  "cells": [
    {
      "cell_type": "code",
      "execution_count": 1,
      "metadata": {
        "id": "PwwQasnUSEpB"
      },
      "outputs": [],
      "source": [
        "import numpy as np\n",
        "import pandas as pd\n",
        "import seaborn as sn\n",
        "import matplotlib.pyplot as plt\n",
        "import tensorflow as tf\n",
        "from tensorflow import keras\n",
        "from tensorflow.keras.models import Sequential\n",
        "from tensorflow.keras.layers import Dense\n",
        "from sklearn.model_selection import train_test_split\n",
        "from sklearn.preprocessing import StandardScaler"
      ]
    },
    {
      "cell_type": "code",
      "source": [
        "from itertools import product\n",
        "import io\n",
        "\n",
        "df1 = pd.read_csv(\"student_dataset.csv\")\n",
        "df2 = pd.read_csv(\"scholarship_dataset.csv\")\n",
        "\n",
        "df3=df1.merge(df2, how='cross')"
      ],
      "metadata": {
        "id": "gGo0W2_3SXlP"
      },
      "execution_count": 2,
      "outputs": []
    },
    {
      "cell_type": "code",
      "source": [
        "def generate_output(row):\n",
        "    if ((row['CGPA'] >= row['Required_GPA']) & (((row['Education_Level'] =='BS') & (row['Education_Preference']=='Masters')) | ((row['Education_Level'] =='Masters') & (row['Education_Preference']=='PhD')) | ((row['Education_Level'] =='PhD') & (row['Education_Preference']=='PhD')))):\n",
        "        return 1\n",
        "    else:\n",
        "        return 0"
      ],
      "metadata": {
        "id": "Mh3Sk7FjS3Vo"
      },
      "execution_count": 3,
      "outputs": []
    },
    {
      "cell_type": "code",
      "source": [
        "df3['Target'] = df3.apply(generate_output, axis=1)\n",
        "\n",
        "df3.drop('Name', axis=1, inplace=True)\n",
        "df3.drop('Domain_Area', axis=1, inplace=True)\n",
        "df3.drop('Eligible_Domain', axis=1, inplace=True)\n",
        "df3.drop('Budget_Prefrence', axis=1, inplace=True)\n",
        "df3.drop('Scholarship_Name', axis=1, inplace=True)\n",
        "df3.drop('Scholarship_Type', axis=1, inplace=True)\n",
        "df3.drop('Scholarship_Budget', axis=1, inplace=True)\n",
        "df3.drop('Country_Preference', axis=1, inplace=True)\n",
        "df3.drop('Country_of_Scholarship', axis=1, inplace=True)\n",
        "\n",
        "df3.to_csv(\"combined_dataset.csv\", index=False)"
      ],
      "metadata": {
        "id": "LeDDp5tITGEb"
      },
      "execution_count": 4,
      "outputs": []
    },
    {
      "cell_type": "code",
      "source": [
        "print(df3['Target'].value_counts())"
      ],
      "metadata": {
        "colab": {
          "base_uri": "https://localhost:8080/"
        },
        "id": "5Er1oWrxVcGd",
        "outputId": "6b1e9fd6-f7fe-4846-834c-6dea97cf97a9"
      },
      "execution_count": 5,
      "outputs": [
        {
          "output_type": "stream",
          "name": "stdout",
          "text": [
            "0    179554\n",
            "1     70446\n",
            "Name: Target, dtype: int64\n"
          ]
        }
      ]
    },
    {
      "cell_type": "code",
      "source": [
        "df3 = pd.read_csv(\"combined_dataset.csv\")\n",
        "\n",
        "# Split the dataset into features (X) and target variable (y)\n",
        "X = df3.drop('Target', axis=1)\n",
        "y = df3['Target']\n",
        "\n",
        "# One-hot encode categorical columns\n",
        "categorical_columns = [\"Education_Level\", \"Education_Preference\"]\n",
        "\n",
        "X = pd.get_dummies(X, columns=categorical_columns)\n",
        "\n",
        "# Split the data into training and testing sets\n",
        "X_train, X_test, y_train, y_test = train_test_split(X, y, test_size=0.2, random_state=23)\n",
        "\n",
        "# Standardize the features\n",
        "scaler = StandardScaler()\n",
        "X_train_scaled = scaler.fit_transform(X_train)\n",
        "X_test_scaled = scaler.transform(X_test)"
      ],
      "metadata": {
        "id": "TWjPEmZhVuEM"
      },
      "execution_count": 6,
      "outputs": []
    },
    {
      "cell_type": "code",
      "source": [
        "from tensorflow.keras.callbacks import EarlyStopping\n",
        "\n",
        "early_stop=EarlyStopping(monitor='val_loss',patience=2)"
      ],
      "metadata": {
        "id": "3owi1TOWV_GB"
      },
      "execution_count": 7,
      "outputs": []
    },
    {
      "cell_type": "code",
      "source": [
        "# Build a simple neural network model\n",
        "model = Sequential([\n",
        "    Dense(8, activation='relu', kernel_regularizer=keras.regularizers.l2(l=0.1)),\n",
        "    Dense(6, activation='relu', kernel_regularizer=keras.regularizers.l2(l=0.1)),\n",
        "    Dense(4, activation='relu', kernel_regularizer=keras.regularizers.l2(l=0.1)),\n",
        "    Dense(1, activation='sigmoid')\n",
        "])\n",
        "\n",
        "# Compile the model\n",
        "model.compile(optimizer='adam', loss='binary_crossentropy', metrics=['accuracy'])\n",
        "\n",
        "# Train the model with a specified number of epochs\n",
        "epochs = 10 # Adjust the number of epochs as needed\n",
        "history=model.fit(X_train_scaled, y_train, epochs=epochs, validation_data=(X_test_scaled, y_test),callbacks=[early_stop])"
      ],
      "metadata": {
        "colab": {
          "base_uri": "https://localhost:8080/"
        },
        "id": "fCgNHGwjWFfz",
        "outputId": "073b14bf-154b-4211-feb5-0889740eefb6"
      },
      "execution_count": 8,
      "outputs": [
        {
          "output_type": "stream",
          "name": "stdout",
          "text": [
            "Epoch 1/10\n",
            "6250/6250 [==============================] - 26s 4ms/step - loss: 0.5679 - accuracy: 0.8128 - val_loss: 0.4294 - val_accuracy: 0.8572\n",
            "Epoch 2/10\n",
            "6250/6250 [==============================] - 25s 4ms/step - loss: 0.4033 - accuracy: 0.8592 - val_loss: 0.3833 - val_accuracy: 0.8514\n",
            "Epoch 3/10\n",
            "6250/6250 [==============================] - 28s 5ms/step - loss: 0.3693 - accuracy: 0.8666 - val_loss: 0.3575 - val_accuracy: 0.8677\n",
            "Epoch 4/10\n",
            "6250/6250 [==============================] - 25s 4ms/step - loss: 0.3509 - accuracy: 0.8722 - val_loss: 0.3425 - val_accuracy: 0.8831\n",
            "Epoch 5/10\n",
            "6250/6250 [==============================] - 26s 4ms/step - loss: 0.3392 - accuracy: 0.8755 - val_loss: 0.3324 - val_accuracy: 0.8781\n",
            "Epoch 6/10\n",
            "6250/6250 [==============================] - 26s 4ms/step - loss: 0.3311 - accuracy: 0.8771 - val_loss: 0.3262 - val_accuracy: 0.8856\n",
            "Epoch 7/10\n",
            "6250/6250 [==============================] - 26s 4ms/step - loss: 0.3247 - accuracy: 0.8787 - val_loss: 0.3199 - val_accuracy: 0.8791\n",
            "Epoch 8/10\n",
            "6250/6250 [==============================] - 24s 4ms/step - loss: 0.3200 - accuracy: 0.8789 - val_loss: 0.3165 - val_accuracy: 0.8812\n",
            "Epoch 9/10\n",
            "6250/6250 [==============================] - 24s 4ms/step - loss: 0.3158 - accuracy: 0.8799 - val_loss: 0.3118 - val_accuracy: 0.8796\n",
            "Epoch 10/10\n",
            "6250/6250 [==============================] - 26s 4ms/step - loss: 0.3126 - accuracy: 0.8797 - val_loss: 0.3098 - val_accuracy: 0.8793\n"
          ]
        }
      ]
    },
    {
      "cell_type": "code",
      "source": [
        "# Accessing loss history\n",
        "train_loss = history.history['loss']\n",
        "val_loss = history.history['val_loss']\n",
        "\n",
        "# Plotting loss\n",
        "plt.plot(train_loss, label='Training Loss')\n",
        "plt.plot(val_loss, label='Validation Loss')\n",
        "plt.xlabel('Epoch')\n",
        "plt.ylabel('Loss')\n",
        "plt.title('Training and Validation Loss')\n",
        "plt.legend()\n",
        "plt.show()"
      ],
      "metadata": {
        "colab": {
          "base_uri": "https://localhost:8080/",
          "height": 472
        },
        "id": "cleNFghSWH4t",
        "outputId": "fa5ea7d9-1415-4c97-c82a-f7a0c93bef1a"
      },
      "execution_count": 9,
      "outputs": [
        {
          "output_type": "display_data",
          "data": {
            "text/plain": [
              "<Figure size 640x480 with 1 Axes>"
            ],
            "image/png": "[encoded data removed]"
          },
          "metadata": {}
        }
      ]
    },
    {
      "cell_type": "code",
      "source": [
        "from sklearn.metrics import accuracy_score, classification_report, confusion_matrix\n",
        "\n",
        "# Predict probabilities for binary classification\n",
        "y_pred_prob = model.predict(X_test_scaled)\n",
        "\n",
        "# Convert probabilities to binary labels\n",
        "y_pred = (y_pred_prob > 0.5).astype(int)\n",
        "\n",
        "# Ensure y_test and y_pred have the same data type and shape\n",
        "y_test = np.array(y_test)\n",
        "y_pred = np.array(y_pred)\n",
        "\n",
        "# Calculate accuracy\n",
        "accuracy = accuracy_score(y_test, y_pred)\n",
        "print(f\"Accuracy: {accuracy}\")\n",
        "\n",
        "# Generate classification report\n",
        "print(\"Classification Report:\")\n",
        "print(classification_report(y_test, y_pred))\n",
        "\n",
        "# Generate confusion matrix\n",
        "print(\"Confusion Matrix:\")\n",
        "print(confusion_matrix(y_test, y_pred))"
      ],
      "metadata": {
        "colab": {
          "base_uri": "https://localhost:8080/"
        },
        "id": "HtXAHIdFWNTU",
        "outputId": "977daf18-2ebb-4d61-b5b3-814b0ccc9f26"
      },
      "execution_count": 10,
      "outputs": [
        {
          "output_type": "stream",
          "name": "stdout",
          "text": [
            "1563/1563 [==============================] - 3s 2ms/step\n",
            "Accuracy: 0.8793\n",
            "Classification Report:\n",
            "              precision    recall  f1-score   support\n",
            "\n",
            "           0       1.00      0.83      0.91     36018\n",
            "           1       0.70      1.00      0.82     13982\n",
            "\n",
            "    accuracy                           0.88     50000\n",
            "   macro avg       0.85      0.92      0.87     50000\n",
            "weighted avg       0.92      0.88      0.88     50000\n",
            "\n",
            "Confusion Matrix:\n",
            "[[29983  6035]\n",
            " [    0 13982]]\n"
          ]
        }
      ]
    },
    {
      "cell_type": "code",
      "source": [
        "tf.saved_model.save(model, 'shortlisting_model')\n"
      ],
      "metadata": {
        "id": "vueteNDdWiPI"
      },
      "execution_count": 11,
      "outputs": []
    },
    {
      "cell_type": "code",
      "source": [
        "from google.colab import files\n",
        "import os\n",
        "\n",
        "dir_to_zip = 'shortlisting_model'\n",
        "output_filename = 'shortlisting_model.zip'\n",
        "delete_dir_after_download = \"No\"\n",
        "\n",
        "os.system( \"zip -r {} {}\".format( output_filename , dir_to_zip ) )\n",
        "\n",
        "if delete_dir_after_download == \"Yes\":\n",
        "    os.system( \"rm -r {}\".format( dir_to_zip ) )\n",
        "\n",
        "files.download( output_filename )"
      ],
      "metadata": {
        "colab": {
          "base_uri": "https://localhost:8080/",
          "height": 17
        },
        "id": "T1Ka4sxZWjFK",
        "outputId": "29e87ba7-6cc8-433a-b4c9-5bace2d2953a"
      },
      "execution_count": 12,
      "outputs": [
        {
          "output_type": "display_data",
          "data": {
            "text/plain": [
              "<IPython.core.display.Javascript object>"
            ],
            "application/javascript": [
              "\n",
              "    async function download(id, filename, size) {\n",
              "      if (!google.colab.kernel.accessAllowed) {\n",
              "        return;\n",
              "      }\n",
              "      const div = document.createElement('div');\n",
              "      const label = document.createElement('label');\n",
              "      label.textContent = `Downloading \"${filename}\": `;\n",
              "      div.appendChild(label);\n",
              "      const progress = document.createElement('progress');\n",
              "      progress.max = size;\n",
              "      div.appendChild(progress);\n",
              "      document.body.appendChild(div);\n",
              "\n",
              "      const buffers = [];\n",
              "      let downloaded = 0;\n",
              "\n",
              "      const channel = await google.colab.kernel.comms.open(id);\n",
              "      // Send a message to notify the kernel that we're ready.\n",
              "      channel.send({})\n",
              "\n",
              "      for await (const message of channel.messages) {\n",
              "        // Send a message to notify the kernel that we're ready.\n",
              "        channel.send({})\n",
              "        if (message.buffers) {\n",
              "          for (const buffer of message.buffers) {\n",
              "            buffers.push(buffer);\n",
              "            downloaded += buffer.byteLength;\n",
              "            progress.value = downloaded;\n",
              "          }\n",
              "        }\n",
              "      }\n",
              "      const blob = new Blob(buffers, {type: 'application/binary'});\n",
              "      const a = document.createElement('a');\n",
              "      a.href = window.URL.createObjectURL(blob);\n",
              "      a.download = filename;\n",
              "      div.appendChild(a);\n",
              "      a.click();\n",
              "      div.remove();\n",
              "    }\n",
              "  "
            ]
          },
          "metadata": {}
        },
        {
          "output_type": "display_data",
          "data": {
            "text/plain": [
              "<IPython.core.display.Javascript object>"
            ],
            "application/javascript": [
              "download(\"download_e6be3095-13db-4512-86be-4e6d1079bd07\", \"shortlisting_model.zip\", 20747)"
            ]
          },
          "metadata": {}
        }
      ]
    }
  ]
}